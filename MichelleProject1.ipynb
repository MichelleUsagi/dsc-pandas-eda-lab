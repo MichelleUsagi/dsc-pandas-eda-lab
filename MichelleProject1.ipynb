{
 "cells": [
  {
   "cell_type": "markdown",
   "metadata": {},
   "source": [
    "# EDA with Pandas - Cumulative Lab\n",
    "\n",
    "## Introduction\n",
    "\n",
    "In this section, you've learned a lot about importing, cleaning up, analyzing (using descriptive statistics) and visualizing data. In this cumulative lab, you'll get a chance to practice all of these skills with the Ames Housing dataset, which contains information about home sales in Ames, Iowa between 2006 and 2010.\n",
    "\n",
    "## Objectives\n",
    "\n",
    "You will be able to:\n",
    "\n",
    "* Practice loading data with pandas\n",
    "* Practice calculating measures of centrality and dispersion with pandas\n",
    "* Practice creating subsets of data with pandas\n",
    "* Practice using data visualizations to explore data, and interpreting those visualizations\n",
    "* Perform a full exploratory data analysis process to gain insight about a dataset "
   ]
  },
  {
   "cell_type": "markdown",
   "metadata": {},
   "source": [
    "## Your Task: Explore the Ames Housing Dataset with Pandas\n",
    "\n",
    "![aerial photo of a neighborhood](images/neighborhood_aerial.jpg)\n",
    "\n",
    "Photo by <a href=\"https://unsplash.com/@mattdonders?utm_source=unsplash&utm_medium=referral&utm_content=creditCopyText\">Matt Donders</a> on <a href=\"/@mattdonders?utm_source=unsplash&utm_medium=referral&utm_content=creditCopyText\">Unsplash</a>\n",
    "\n"
   ]
  },
  {
   "cell_type": "markdown",
   "metadata": {},
   "source": [
    "### Data Understanding\n",
    "\n",
    "Each record (row) in this dataset represents a home that was sold in Ames, IA.\n",
    "\n",
    "Each feature (column) in this dataset is some attribute of that home sale. You can view the file `data/data_description.txt` in this repository for a full explanation of all variables in this dataset — 80 columns in total.\n",
    "\n",
    "We are going to focus on the following features:\n",
    "\n",
    "**SalePrice**: `Sale price of the house in dollars`\n",
    "\n",
    "**TotRmsAbvGrd**: `Total rooms above grade (does not include bathrooms)`\n",
    "\n",
    "**OverallCond**: `Rates the overall condition of the house`\n",
    "```\n",
    "       10\tVery Excellent\n",
    "       9\t Excellent\n",
    "       8\t Very Good\n",
    "       7\t Good\n",
    "       6\t Above Average\t\n",
    "       5\t Average\n",
    "       4\t Below Average\t\n",
    "       3\t Fair\n",
    "       2\t Poor\n",
    "       1\t Very Poor\n",
    "```\n",
    "\n",
    "**YrSold**: `Year Sold (YYYY)`\n",
    "\n",
    "**YearBuilt**: `Original construction date`\n",
    "\n",
    "**LandSlope**: `Slope of property`\n",
    "```\n",
    "       Gtl\tGentle slope\n",
    "       Mod\tModerate Slope\t\n",
    "       Sev\tSevere Slope\n",
    "```"
   ]
  },
  {
   "cell_type": "markdown",
   "metadata": {},
   "source": [
    "### Requirements\n",
    "\n",
    "In this lab you will use your data munging and visualization skills to conduct an exploratory analysis of the dataset.\n",
    "\n",
    "#### 1. Load the Dataset with Pandas\n",
    "\n",
    "Import pandas with the standard alias `pd` and load the data into a dataframe with the standard name `df`.\n",
    "\n",
    "#### 2. Explore Data Distributions\n",
    "\n",
    "Produce summary statistics, visualizations, and interpretive text describing the distributions of `SalePrice`, `TotRmsAbvGrd`, and `OverallCond`.\n",
    "\n",
    "#### 3. Explore Differences between Subsets\n",
    "\n",
    "Separate the data into subsets based on `OverallCond`, then demonstrate how this split impacts the distribution of `SalePrice`.\n",
    "\n",
    "#### 4. Explore Correlations\n",
    "\n",
    "Find the features that have the strongest positive and negative correlations with `SalePrice`, and produce plots representing these relationships.\n",
    "\n",
    "#### 5. Engineer and Explore a New Feature\n",
    "\n",
    "Create a new feature `Age`, which represents the difference between the year sold and the year built, and plot the relationship between the age and sale price."
   ]
  },
  {
   "cell_type": "markdown",
   "metadata": {},
   "source": [
    "## 1. Load the Dataset with Pandas\n",
    "\n",
    "In the cell below, import:\n",
    "* `pandas` with the standard alias `pd`\n",
    "* `matplotlib.pyplot` with the standard alias `plt`\n",
    "\n",
    "And set `%matplotlib inline` so the graphs will display immediately below the cell that creates them."
   ]
  },
  {
   "cell_type": "code",
   "execution_count": 1,
   "metadata": {},
   "outputs": [],
   "source": [
    "import pandas as pd\n",
    "import matplotlib.pyplot as plt\n",
    "%matplotlib inline\n"
   ]
  },
  {
   "cell_type": "markdown",
   "metadata": {},
   "source": [
    "<Now, use pandas to open the file located at `data/ames.csv` ([documentation here](https://pandas.pydata.org/pandas-docs/stable/reference/api/pandas.read_csv.html)). Specify the argument `index_col=0` in order to avoid creating an extra `Id` column. Name the resulting dataframe `df`. --> -->"
   ]
  },
  {
   "cell_type": "code",
   "execution_count": 2,
   "metadata": {},
   "outputs": [
    {
     "name": "stdout",
     "output_type": "stream",
     "text": [
      "['MSSubClass: Identifies the type of dwelling involved in the sale.\\t\\n', '\\n', '        20\\t1-STORY 1946 & NEWER ALL STYLES\\n', '        30\\t1-STORY 1945 & OLDER\\n', '        40\\t1-STORY W/FINISHED ATTIC ALL AGES\\n', '        45\\t1-1/2 STORY - UNFINISHED ALL AGES\\n', '        50\\t1-1/2 STORY FINISHED ALL AGES\\n', '        60\\t2-STORY 1946 & NEWER\\n', '        70\\t2-STORY 1945 & OLDER\\n', '        75\\t2-1/2 STORY ALL AGES\\n', '        80\\tSPLIT OR MULTI-LEVEL\\n', '        85\\tSPLIT FOYER\\n', '        90\\tDUPLEX - ALL STYLES AND AGES\\n', '       120\\t1-STORY PUD (Planned Unit Development) - 1946 & NEWER\\n', '       150\\t1-1/2 STORY PUD - ALL AGES\\n', '       160\\t2-STORY PUD - 1946 & NEWER\\n', '       180\\tPUD - MULTILEVEL - INCL SPLIT LEV/FOYER\\n', '       190\\t2 FAMILY CONVERSION - ALL STYLES AND AGES\\n', '\\n', 'MSZoning: Identifies the general zoning classification of the sale.\\n', '\\t\\t\\n', '       A\\tAgriculture\\n', '       C\\tCommercial\\n', '       FV\\tFloating Village Residential\\n', '       I\\tIndustrial\\n', '       RH\\tResidential High Density\\n', '       RL\\tResidential Low Density\\n', '       RP\\tResidential Low Density Park \\n', '       RM\\tResidential Medium Density\\n', '\\t\\n', 'LotFrontage: Linear feet of street connected to property\\n', '\\n', 'LotArea: Lot size in square feet\\n', '\\n', 'Street: Type of road access to property\\n', '\\n', '       Grvl\\tGravel\\t\\n', '       Pave\\tPaved\\n', '       \\t\\n', 'Alley: Type of alley access to property\\n', '\\n', '       Grvl\\tGravel\\n', '       Pave\\tPaved\\n', '       NA \\tNo alley access\\n', '\\t\\t\\n', 'LotShape: General shape of property\\n', '\\n', '       Reg\\tRegular\\t\\n', '       IR1\\tSlightly irregular\\n', '       IR2\\tModerately Irregular\\n', '       IR3\\tIrregular\\n', '       \\n', 'LandContour: Flatness of the property\\n', '\\n', '       Lvl\\tNear Flat/Level\\t\\n', '       Bnk\\tBanked - Quick and significant rise from street grade to building\\n', '       HLS\\tHillside - Significant slope from side to side\\n', '       Low\\tDepression\\n', '\\t\\t\\n', 'Utilities: Type of utilities available\\n', '\\t\\t\\n', '       AllPub\\tAll public Utilities (E,G,W,& S)\\t\\n', '       NoSewr\\tElectricity, Gas, and Water (Septic Tank)\\n', '       NoSeWa\\tElectricity and Gas Only\\n', '       ELO\\tElectricity only\\t\\n', '\\t\\n', 'LotConfig: Lot configuration\\n', '\\n', '       Inside\\tInside lot\\n', '       Corner\\tCorner lot\\n', '       CulDSac\\tCul-de-sac\\n', '       FR2\\tFrontage on 2 sides of property\\n', '       FR3\\tFrontage on 3 sides of property\\n', '\\t\\n', 'LandSlope: Slope of property\\n', '\\t\\t\\n', '       Gtl\\tGentle slope\\n', '       Mod\\tModerate Slope\\t\\n', '       Sev\\tSevere Slope\\n', '\\t\\n', 'Neighborhood: Physical locations within Ames city limits\\n', '\\n', '       Blmngtn\\tBloomington Heights\\n', '       Blueste\\tBluestem\\n', '       BrDale\\tBriardale\\n', '       BrkSide\\tBrookside\\n', '       ClearCr\\tClear Creek\\n', '       CollgCr\\tCollege Creek\\n', '       Crawfor\\tCrawford\\n', '       Edwards\\tEdwards\\n', '       Gilbert\\tGilbert\\n', '       IDOTRR\\tIowa DOT and Rail Road\\n', '       MeadowV\\tMeadow Village\\n', '       Mitchel\\tMitchell\\n', '       Names\\tNorth Ames\\n', '       NoRidge\\tNorthridge\\n', '       NPkVill\\tNorthpark Villa\\n', '       NridgHt\\tNorthridge Heights\\n', '       NWAmes\\tNorthwest Ames\\n', '       OldTown\\tOld Town\\n', '       SWISU\\tSouth & West of Iowa State University\\n', '       Sawyer\\tSawyer\\n', '       SawyerW\\tSawyer West\\n', '       Somerst\\tSomerset\\n', '       StoneBr\\tStone Brook\\n', '       Timber\\tTimberland\\n', '       Veenker\\tVeenker\\n', '\\t\\t\\t\\n', 'Condition1: Proximity to various conditions\\n', '\\t\\n', '       Artery\\tAdjacent to arterial street\\n', '       Feedr\\tAdjacent to feeder street\\t\\n', '       Norm\\tNormal\\t\\n', \"       RRNn\\tWithin 200' of North-South Railroad\\n\", '       RRAn\\tAdjacent to North-South Railroad\\n', '       PosN\\tNear positive off-site feature--park, greenbelt, etc.\\n', '       PosA\\tAdjacent to postive off-site feature\\n', \"       RRNe\\tWithin 200' of East-West Railroad\\n\", '       RRAe\\tAdjacent to East-West Railroad\\n', '\\t\\n', 'Condition2: Proximity to various conditions (if more than one is present)\\n', '\\t\\t\\n', '       Artery\\tAdjacent to arterial street\\n', '       Feedr\\tAdjacent to feeder street\\t\\n', '       Norm\\tNormal\\t\\n', \"       RRNn\\tWithin 200' of North-South Railroad\\n\", '       RRAn\\tAdjacent to North-South Railroad\\n', '       PosN\\tNear positive off-site feature--park, greenbelt, etc.\\n', '       PosA\\tAdjacent to postive off-site feature\\n', \"       RRNe\\tWithin 200' of East-West Railroad\\n\", '       RRAe\\tAdjacent to East-West Railroad\\n', '\\t\\n', 'BldgType: Type of dwelling\\n', '\\t\\t\\n', '       1Fam\\tSingle-family Detached\\t\\n', '       2FmCon\\tTwo-family Conversion; originally built as one-family dwelling\\n', '       Duplx\\tDuplex\\n', '       TwnhsE\\tTownhouse End Unit\\n', '       TwnhsI\\tTownhouse Inside Unit\\n', '\\t\\n', 'HouseStyle: Style of dwelling\\n', '\\t\\n', '       1Story\\tOne story\\n', '       1.5Fin\\tOne and one-half story: 2nd level finished\\n', '       1.5Unf\\tOne and one-half story: 2nd level unfinished\\n', '       2Story\\tTwo story\\n', '       2.5Fin\\tTwo and one-half story: 2nd level finished\\n', '       2.5Unf\\tTwo and one-half story: 2nd level unfinished\\n', '       SFoyer\\tSplit Foyer\\n', '       SLvl\\tSplit Level\\n', '\\t\\n', 'OverallQual: Rates the overall material and finish of the house\\n', '\\n', '       10\\tVery Excellent\\n', '       9\\tExcellent\\n', '       8\\tVery Good\\n', '       7\\tGood\\n', '       6\\tAbove Average\\n', '       5\\tAverage\\n', '       4\\tBelow Average\\n', '       3\\tFair\\n', '       2\\tPoor\\n', '       1\\tVery Poor\\n', '\\t\\n', 'OverallCond: Rates the overall condition of the house\\n', '\\n', '       10\\tVery Excellent\\n', '       9\\tExcellent\\n', '       8\\tVery Good\\n', '       7\\tGood\\n', '       6\\tAbove Average\\t\\n', '       5\\tAverage\\n', '       4\\tBelow Average\\t\\n', '       3\\tFair\\n', '       2\\tPoor\\n', '       1\\tVery Poor\\n', '\\t\\t\\n', 'YearBuilt: Original construction date\\n', '\\n', 'YearRemodAdd: Remodel date (same as construction date if no remodeling or additions)\\n', '\\n', 'RoofStyle: Type of roof\\n', '\\n', '       Flat\\tFlat\\n', '       Gable\\tGable\\n', '       Gambrel\\tGabrel (Barn)\\n', '       Hip\\tHip\\n', '       Mansard\\tMansard\\n', '       Shed\\tShed\\n', '\\t\\t\\n', 'RoofMatl: Roof material\\n', '\\n', '       ClyTile\\tClay or Tile\\n', '       CompShg\\tStandard (Composite) Shingle\\n', '       Membran\\tMembrane\\n', '       Metal\\tMetal\\n', '       Roll\\tRoll\\n', '       Tar&Grv\\tGravel & Tar\\n', '       WdShake\\tWood Shakes\\n', '       WdShngl\\tWood Shingles\\n', '\\t\\t\\n', 'Exterior1st: Exterior covering on house\\n', '\\n', '       AsbShng\\tAsbestos Shingles\\n', '       AsphShn\\tAsphalt Shingles\\n', '       BrkComm\\tBrick Common\\n', '       BrkFace\\tBrick Face\\n', '       CBlock\\tCinder Block\\n', '       CemntBd\\tCement Board\\n', '       HdBoard\\tHard Board\\n', '       ImStucc\\tImitation Stucco\\n', '       MetalSd\\tMetal Siding\\n', '       Other\\tOther\\n', '       Plywood\\tPlywood\\n', '       PreCast\\tPreCast\\t\\n', '       Stone\\tStone\\n', '       Stucco\\tStucco\\n', '       VinylSd\\tVinyl Siding\\n', '       Wd Sdng\\tWood Siding\\n', '       WdShing\\tWood Shingles\\n', '\\t\\n', 'Exterior2nd: Exterior covering on house (if more than one material)\\n', '\\n', '       AsbShng\\tAsbestos Shingles\\n', '       AsphShn\\tAsphalt Shingles\\n', '       BrkComm\\tBrick Common\\n', '       BrkFace\\tBrick Face\\n', '       CBlock\\tCinder Block\\n', '       CemntBd\\tCement Board\\n', '       HdBoard\\tHard Board\\n', '       ImStucc\\tImitation Stucco\\n', '       MetalSd\\tMetal Siding\\n', '       Other\\tOther\\n', '       Plywood\\tPlywood\\n', '       PreCast\\tPreCast\\n', '       Stone\\tStone\\n', '       Stucco\\tStucco\\n', '       VinylSd\\tVinyl Siding\\n', '       Wd Sdng\\tWood Siding\\n', '       WdShing\\tWood Shingles\\n', '\\t\\n', 'MasVnrType: Masonry veneer type\\n', '\\n', '       BrkCmn\\tBrick Common\\n', '       BrkFace\\tBrick Face\\n', '       CBlock\\tCinder Block\\n', '       None\\tNone\\n', '       Stone\\tStone\\n', '\\t\\n', 'MasVnrArea: Masonry veneer area in square feet\\n', '\\n', 'ExterQual: Evaluates the quality of the material on the exterior \\n', '\\t\\t\\n', '       Ex\\tExcellent\\n', '       Gd\\tGood\\n', '       TA\\tAverage/Typical\\n', '       Fa\\tFair\\n', '       Po\\tPoor\\n', '\\t\\t\\n', 'ExterCond: Evaluates the present condition of the material on the exterior\\n', '\\t\\t\\n', '       Ex\\tExcellent\\n', '       Gd\\tGood\\n', '       TA\\tAverage/Typical\\n', '       Fa\\tFair\\n', '       Po\\tPoor\\n', '\\t\\t\\n', 'Foundation: Type of foundation\\n', '\\t\\t\\n', '       BrkTil\\tBrick & Tile\\n', '       CBlock\\tCinder Block\\n', '       PConc\\tPoured Contrete\\t\\n', '       Slab\\tSlab\\n', '       Stone\\tStone\\n', '       Wood\\tWood\\n', '\\t\\t\\n', 'BsmtQual: Evaluates the height of the basement\\n', '\\n', '       Ex\\tExcellent (100+ inches)\\t\\n', '       Gd\\tGood (90-99 inches)\\n', '       TA\\tTypical (80-89 inches)\\n', '       Fa\\tFair (70-79 inches)\\n', '       Po\\tPoor (<70 inches\\n', '       NA\\tNo Basement\\n', '\\t\\t\\n', 'BsmtCond: Evaluates the general condition of the basement\\n', '\\n', '       Ex\\tExcellent\\n', '       Gd\\tGood\\n', '       TA\\tTypical - slight dampness allowed\\n', '       Fa\\tFair - dampness or some cracking or settling\\n', '       Po\\tPoor - Severe cracking, settling, or wetness\\n', '       NA\\tNo Basement\\n', '\\t\\n', 'BsmtExposure: Refers to walkout or garden level walls\\n', '\\n', '       Gd\\tGood Exposure\\n', '       Av\\tAverage Exposure (split levels or foyers typically score average or above)\\t\\n', '       Mn\\tMimimum Exposure\\n', '       No\\tNo Exposure\\n', '       NA\\tNo Basement\\n', '\\t\\n', 'BsmtFinType1: Rating of basement finished area\\n', '\\n', '       GLQ\\tGood Living Quarters\\n', '       ALQ\\tAverage Living Quarters\\n', '       BLQ\\tBelow Average Living Quarters\\t\\n', '       Rec\\tAverage Rec Room\\n', '       LwQ\\tLow Quality\\n', '       Unf\\tUnfinshed\\n', '       NA\\tNo Basement\\n', '\\t\\t\\n', 'BsmtFinSF1: Type 1 finished square feet\\n', '\\n', 'BsmtFinType2: Rating of basement finished area (if multiple types)\\n', '\\n', '       GLQ\\tGood Living Quarters\\n', '       ALQ\\tAverage Living Quarters\\n', '       BLQ\\tBelow Average Living Quarters\\t\\n', '       Rec\\tAverage Rec Room\\n', '       LwQ\\tLow Quality\\n', '       Unf\\tUnfinshed\\n', '       NA\\tNo Basement\\n', '\\n', 'BsmtFinSF2: Type 2 finished square feet\\n', '\\n', 'BsmtUnfSF: Unfinished square feet of basement area\\n', '\\n', 'TotalBsmtSF: Total square feet of basement area\\n', '\\n', 'Heating: Type of heating\\n', '\\t\\t\\n', '       Floor\\tFloor Furnace\\n', '       GasA\\tGas forced warm air furnace\\n', '       GasW\\tGas hot water or steam heat\\n', '       Grav\\tGravity furnace\\t\\n', '       OthW\\tHot water or steam heat other than gas\\n', '       Wall\\tWall furnace\\n', '\\t\\t\\n', 'HeatingQC: Heating quality and condition\\n', '\\n', '       Ex\\tExcellent\\n', '       Gd\\tGood\\n', '       TA\\tAverage/Typical\\n', '       Fa\\tFair\\n', '       Po\\tPoor\\n', '\\t\\t\\n', 'CentralAir: Central air conditioning\\n', '\\n', '       N\\tNo\\n', '       Y\\tYes\\n', '\\t\\t\\n', 'Electrical: Electrical system\\n', '\\n', '       SBrkr\\tStandard Circuit Breakers & Romex\\n', '       FuseA\\tFuse Box over 60 AMP and all Romex wiring (Average)\\t\\n', '       FuseF\\t60 AMP Fuse Box and mostly Romex wiring (Fair)\\n', '       FuseP\\t60 AMP Fuse Box and mostly knob & tube wiring (poor)\\n', '       Mix\\tMixed\\n', '\\t\\t\\n', '1stFlrSF: First Floor square feet\\n', ' \\n', '2ndFlrSF: Second floor square feet\\n', '\\n', 'LowQualFinSF: Low quality finished square feet (all floors)\\n', '\\n', 'GrLivArea: Above grade (ground) living area square feet\\n', '\\n', 'BsmtFullBath: Basement full bathrooms\\n', '\\n', 'BsmtHalfBath: Basement half bathrooms\\n', '\\n', 'FullBath: Full bathrooms above grade\\n', '\\n', 'HalfBath: Half baths above grade\\n', '\\n', 'Bedroom: Bedrooms above grade (does NOT include basement bedrooms)\\n', '\\n', 'KitchenAbvGr: Kitchens above grade\\n', '\\n', 'KitchenQual: Kitchen quality\\n', '\\n', '       Ex\\tExcellent\\n', '       Gd\\tGood\\n', '       TA\\tTypical/Average\\n', '       Fa\\tFair\\n', '       Po\\tPoor\\n', '       \\t\\n', 'TotRmsAbvGrd: Total rooms above grade (does not include bathrooms)\\n', '\\n', 'Functional: Home functionality (Assume typical unless deductions are warranted)\\n', '\\n', '       Typ\\tTypical Functionality\\n', '       Min1\\tMinor Deductions 1\\n', '       Min2\\tMinor Deductions 2\\n', '       Mod\\tModerate Deductions\\n', '       Maj1\\tMajor Deductions 1\\n', '       Maj2\\tMajor Deductions 2\\n', '       Sev\\tSeverely Damaged\\n', '       Sal\\tSalvage only\\n', '\\t\\t\\n', 'Fireplaces: Number of fireplaces\\n', '\\n', 'FireplaceQu: Fireplace quality\\n', '\\n', '       Ex\\tExcellent - Exceptional Masonry Fireplace\\n', '       Gd\\tGood - Masonry Fireplace in main level\\n', '       TA\\tAverage - Prefabricated Fireplace in main living area or Masonry Fireplace in basement\\n', '       Fa\\tFair - Prefabricated Fireplace in basement\\n', '       Po\\tPoor - Ben Franklin Stove\\n', '       NA\\tNo Fireplace\\n', '\\t\\t\\n', 'GarageType: Garage location\\n', '\\t\\t\\n', '       2Types\\tMore than one type of garage\\n', '       Attchd\\tAttached to home\\n', '       Basment\\tBasement Garage\\n', '       BuiltIn\\tBuilt-In (Garage part of house - typically has room above garage)\\n', '       CarPort\\tCar Port\\n', '       Detchd\\tDetached from home\\n', '       NA\\tNo Garage\\n', '\\t\\t\\n', 'GarageYrBlt: Year garage was built\\n', '\\t\\t\\n', 'GarageFinish: Interior finish of the garage\\n', '\\n', '       Fin\\tFinished\\n', '       RFn\\tRough Finished\\t\\n', '       Unf\\tUnfinished\\n', '       NA\\tNo Garage\\n', '\\t\\t\\n', 'GarageCars: Size of garage in car capacity\\n', '\\n', 'GarageArea: Size of garage in square feet\\n', '\\n', 'GarageQual: Garage quality\\n', '\\n', '       Ex\\tExcellent\\n', '       Gd\\tGood\\n', '       TA\\tTypical/Average\\n', '       Fa\\tFair\\n', '       Po\\tPoor\\n', '       NA\\tNo Garage\\n', '\\t\\t\\n', 'GarageCond: Garage condition\\n', '\\n', '       Ex\\tExcellent\\n', '       Gd\\tGood\\n', '       TA\\tTypical/Average\\n', '       Fa\\tFair\\n', '       Po\\tPoor\\n', '       NA\\tNo Garage\\n', '\\t\\t\\n', 'PavedDrive: Paved driveway\\n', '\\n', '       Y\\tPaved \\n', '       P\\tPartial Pavement\\n', '       N\\tDirt/Gravel\\n', '\\t\\t\\n', 'WoodDeckSF: Wood deck area in square feet\\n', '\\n', 'OpenPorchSF: Open porch area in square feet\\n', '\\n', 'EnclosedPorch: Enclosed porch area in square feet\\n', '\\n', '3SsnPorch: Three season porch area in square feet\\n', '\\n', 'ScreenPorch: Screen porch area in square feet\\n', '\\n', 'PoolArea: Pool area in square feet\\n', '\\n', 'PoolQC: Pool quality\\n', '\\t\\t\\n', '       Ex\\tExcellent\\n', '       Gd\\tGood\\n', '       TA\\tAverage/Typical\\n', '       Fa\\tFair\\n', '       NA\\tNo Pool\\n', '\\t\\t\\n', 'Fence: Fence quality\\n', '\\t\\t\\n', '       GdPrv\\tGood Privacy\\n', '       MnPrv\\tMinimum Privacy\\n', '       GdWo\\tGood Wood\\n', '       MnWw\\tMinimum Wood/Wire\\n', '       NA\\tNo Fence\\n', '\\t\\n', 'MiscFeature: Miscellaneous feature not covered in other categories\\n', '\\t\\t\\n', '       Elev\\tElevator\\n', '       Gar2\\t2nd Garage (if not described in garage section)\\n', '       Othr\\tOther\\n', '       Shed\\tShed (over 100 SF)\\n', '       TenC\\tTennis Court\\n', '       NA\\tNone\\n', '\\t\\t\\n', 'MiscVal: $Value of miscellaneous feature\\n', '\\n', 'MoSold: Month Sold (MM)\\n', '\\n', 'YrSold: Year Sold (YYYY)\\n', '\\n', 'SaleType: Type of sale\\n', '\\t\\t\\n', '       WD \\tWarranty Deed - Conventional\\n', '       CWD\\tWarranty Deed - Cash\\n', '       VWD\\tWarranty Deed - VA Loan\\n', '       New\\tHome just constructed and sold\\n', '       COD\\tCourt Officer Deed/Estate\\n', '       Con\\tContract 15% Down payment regular terms\\n', '       ConLw\\tContract Low Down payment and low interest\\n', '       ConLI\\tContract Low Interest\\n', '       ConLD\\tContract Low Down\\n', '       Oth\\tOther\\n', '\\t\\t\\n', 'SaleCondition: Condition of sale\\n', '\\n', '       Normal\\tNormal Sale\\n', '       Abnorml\\tAbnormal Sale -  trade, foreclosure, short sale\\n', '       AdjLand\\tAdjoining Land Purchase\\n', '       Alloca\\tAllocation - two linked properties with separate deeds, typically condo with a garage unit\\t\\n', '       Family\\tSale between family members\\n', '       Partial\\tHome was not completed when last assessed (associated with New Homes)\\n']\n"
     ]
    }
   ],
   "source": [
    "with open('data/data_description.txt', 'r') as f:\n",
    "    data = f.readlines()\n",
    "    print(data)"
   ]
  },
  {
   "cell_type": "code",
   "execution_count": null,
   "metadata": {},
   "outputs": [],
   "source": [
    "\n"
   ]
  },
  {
   "cell_type": "code",
   "execution_count": 3,
   "metadata": {},
   "outputs": [
    {
     "data": {
      "text/html": [
       "<div>\n",
       "<style scoped>\n",
       "    .dataframe tbody tr th:only-of-type {\n",
       "        vertical-align: middle;\n",
       "    }\n",
       "\n",
       "    .dataframe tbody tr th {\n",
       "        vertical-align: top;\n",
       "    }\n",
       "\n",
       "    .dataframe thead th {\n",
       "        text-align: right;\n",
       "    }\n",
       "</style>\n",
       "<table border=\"1\" class=\"dataframe\">\n",
       "  <thead>\n",
       "    <tr style=\"text-align: right;\">\n",
       "      <th></th>\n",
       "      <th>MSSubClass</th>\n",
       "      <th>MSZoning</th>\n",
       "      <th>LotFrontage</th>\n",
       "      <th>LotArea</th>\n",
       "      <th>Street</th>\n",
       "      <th>Alley</th>\n",
       "      <th>LotShape</th>\n",
       "      <th>LandContour</th>\n",
       "      <th>Utilities</th>\n",
       "      <th>LotConfig</th>\n",
       "      <th>...</th>\n",
       "      <th>PoolArea</th>\n",
       "      <th>PoolQC</th>\n",
       "      <th>Fence</th>\n",
       "      <th>MiscFeature</th>\n",
       "      <th>MiscVal</th>\n",
       "      <th>MoSold</th>\n",
       "      <th>YrSold</th>\n",
       "      <th>SaleType</th>\n",
       "      <th>SaleCondition</th>\n",
       "      <th>SalePrice</th>\n",
       "    </tr>\n",
       "    <tr>\n",
       "      <th>Id</th>\n",
       "      <th></th>\n",
       "      <th></th>\n",
       "      <th></th>\n",
       "      <th></th>\n",
       "      <th></th>\n",
       "      <th></th>\n",
       "      <th></th>\n",
       "      <th></th>\n",
       "      <th></th>\n",
       "      <th></th>\n",
       "      <th></th>\n",
       "      <th></th>\n",
       "      <th></th>\n",
       "      <th></th>\n",
       "      <th></th>\n",
       "      <th></th>\n",
       "      <th></th>\n",
       "      <th></th>\n",
       "      <th></th>\n",
       "      <th></th>\n",
       "      <th></th>\n",
       "    </tr>\n",
       "  </thead>\n",
       "  <tbody>\n",
       "    <tr>\n",
       "      <th>1</th>\n",
       "      <td>60</td>\n",
       "      <td>RL</td>\n",
       "      <td>65.0</td>\n",
       "      <td>8450</td>\n",
       "      <td>Pave</td>\n",
       "      <td>NaN</td>\n",
       "      <td>Reg</td>\n",
       "      <td>Lvl</td>\n",
       "      <td>AllPub</td>\n",
       "      <td>Inside</td>\n",
       "      <td>...</td>\n",
       "      <td>0</td>\n",
       "      <td>NaN</td>\n",
       "      <td>NaN</td>\n",
       "      <td>NaN</td>\n",
       "      <td>0</td>\n",
       "      <td>2</td>\n",
       "      <td>2008</td>\n",
       "      <td>WD</td>\n",
       "      <td>Normal</td>\n",
       "      <td>208500</td>\n",
       "    </tr>\n",
       "    <tr>\n",
       "      <th>2</th>\n",
       "      <td>20</td>\n",
       "      <td>RL</td>\n",
       "      <td>80.0</td>\n",
       "      <td>9600</td>\n",
       "      <td>Pave</td>\n",
       "      <td>NaN</td>\n",
       "      <td>Reg</td>\n",
       "      <td>Lvl</td>\n",
       "      <td>AllPub</td>\n",
       "      <td>FR2</td>\n",
       "      <td>...</td>\n",
       "      <td>0</td>\n",
       "      <td>NaN</td>\n",
       "      <td>NaN</td>\n",
       "      <td>NaN</td>\n",
       "      <td>0</td>\n",
       "      <td>5</td>\n",
       "      <td>2007</td>\n",
       "      <td>WD</td>\n",
       "      <td>Normal</td>\n",
       "      <td>181500</td>\n",
       "    </tr>\n",
       "    <tr>\n",
       "      <th>3</th>\n",
       "      <td>60</td>\n",
       "      <td>RL</td>\n",
       "      <td>68.0</td>\n",
       "      <td>11250</td>\n",
       "      <td>Pave</td>\n",
       "      <td>NaN</td>\n",
       "      <td>IR1</td>\n",
       "      <td>Lvl</td>\n",
       "      <td>AllPub</td>\n",
       "      <td>Inside</td>\n",
       "      <td>...</td>\n",
       "      <td>0</td>\n",
       "      <td>NaN</td>\n",
       "      <td>NaN</td>\n",
       "      <td>NaN</td>\n",
       "      <td>0</td>\n",
       "      <td>9</td>\n",
       "      <td>2008</td>\n",
       "      <td>WD</td>\n",
       "      <td>Normal</td>\n",
       "      <td>223500</td>\n",
       "    </tr>\n",
       "    <tr>\n",
       "      <th>4</th>\n",
       "      <td>70</td>\n",
       "      <td>RL</td>\n",
       "      <td>60.0</td>\n",
       "      <td>9550</td>\n",
       "      <td>Pave</td>\n",
       "      <td>NaN</td>\n",
       "      <td>IR1</td>\n",
       "      <td>Lvl</td>\n",
       "      <td>AllPub</td>\n",
       "      <td>Corner</td>\n",
       "      <td>...</td>\n",
       "      <td>0</td>\n",
       "      <td>NaN</td>\n",
       "      <td>NaN</td>\n",
       "      <td>NaN</td>\n",
       "      <td>0</td>\n",
       "      <td>2</td>\n",
       "      <td>2006</td>\n",
       "      <td>WD</td>\n",
       "      <td>Abnorml</td>\n",
       "      <td>140000</td>\n",
       "    </tr>\n",
       "    <tr>\n",
       "      <th>5</th>\n",
       "      <td>60</td>\n",
       "      <td>RL</td>\n",
       "      <td>84.0</td>\n",
       "      <td>14260</td>\n",
       "      <td>Pave</td>\n",
       "      <td>NaN</td>\n",
       "      <td>IR1</td>\n",
       "      <td>Lvl</td>\n",
       "      <td>AllPub</td>\n",
       "      <td>FR2</td>\n",
       "      <td>...</td>\n",
       "      <td>0</td>\n",
       "      <td>NaN</td>\n",
       "      <td>NaN</td>\n",
       "      <td>NaN</td>\n",
       "      <td>0</td>\n",
       "      <td>12</td>\n",
       "      <td>2008</td>\n",
       "      <td>WD</td>\n",
       "      <td>Normal</td>\n",
       "      <td>250000</td>\n",
       "    </tr>\n",
       "  </tbody>\n",
       "</table>\n",
       "<p>5 rows × 80 columns</p>\n",
       "</div>"
      ],
      "text/plain": [
       "    MSSubClass MSZoning  LotFrontage  LotArea Street Alley LotShape  \\\n",
       "Id                                                                    \n",
       "1           60       RL         65.0     8450   Pave   NaN      Reg   \n",
       "2           20       RL         80.0     9600   Pave   NaN      Reg   \n",
       "3           60       RL         68.0    11250   Pave   NaN      IR1   \n",
       "4           70       RL         60.0     9550   Pave   NaN      IR1   \n",
       "5           60       RL         84.0    14260   Pave   NaN      IR1   \n",
       "\n",
       "   LandContour Utilities LotConfig  ... PoolArea PoolQC Fence MiscFeature  \\\n",
       "Id                                  ...                                     \n",
       "1          Lvl    AllPub    Inside  ...        0    NaN   NaN         NaN   \n",
       "2          Lvl    AllPub       FR2  ...        0    NaN   NaN         NaN   \n",
       "3          Lvl    AllPub    Inside  ...        0    NaN   NaN         NaN   \n",
       "4          Lvl    AllPub    Corner  ...        0    NaN   NaN         NaN   \n",
       "5          Lvl    AllPub       FR2  ...        0    NaN   NaN         NaN   \n",
       "\n",
       "   MiscVal MoSold  YrSold  SaleType  SaleCondition  SalePrice  \n",
       "Id                                                             \n",
       "1        0      2    2008        WD         Normal     208500  \n",
       "2        0      5    2007        WD         Normal     181500  \n",
       "3        0      9    2008        WD         Normal     223500  \n",
       "4        0      2    2006        WD        Abnorml     140000  \n",
       "5        0     12    2008        WD         Normal     250000  \n",
       "\n",
       "[5 rows x 80 columns]"
      ]
     },
     "execution_count": 3,
     "metadata": {},
     "output_type": "execute_result"
    }
   ],
   "source": [
    "df = pd.read_csv('data/ames.csv',index_col=0 )\n",
    "df.head()"
   ]
  },
  {
   "cell_type": "markdown",
   "metadata": {},
   "source": [
    "The following code checks that you loaded the data correctly:"
   ]
  },
  {
   "cell_type": "code",
   "execution_count": 4,
   "metadata": {},
   "outputs": [],
   "source": [
    "# Run this cell without changes\n",
    "\n",
    "# Check that df is a dataframe\n",
    "assert type(df) == pd.DataFrame\n",
    "\n",
    "# Check that there are the correct number of rows\n",
    "assert df.shape[0] == 1460\n",
    "\n",
    "# Check that there are the correct number of columns\n",
    "# (if this crashes, make sure you specified `index_col=0`)\n",
    "assert df.shape[1] == 80"
   ]
  },
  {
   "cell_type": "markdown",
   "metadata": {},
   "source": [
    "Inspect the contents of the dataframe:"
   ]
  },
  {
   "cell_type": "code",
   "execution_count": 5,
   "metadata": {
    "scrolled": true
   },
   "outputs": [
    {
     "data": {
      "text/html": [
       "<div>\n",
       "<style scoped>\n",
       "    .dataframe tbody tr th:only-of-type {\n",
       "        vertical-align: middle;\n",
       "    }\n",
       "\n",
       "    .dataframe tbody tr th {\n",
       "        vertical-align: top;\n",
       "    }\n",
       "\n",
       "    .dataframe thead th {\n",
       "        text-align: right;\n",
       "    }\n",
       "</style>\n",
       "<table border=\"1\" class=\"dataframe\">\n",
       "  <thead>\n",
       "    <tr style=\"text-align: right;\">\n",
       "      <th></th>\n",
       "      <th>MSSubClass</th>\n",
       "      <th>MSZoning</th>\n",
       "      <th>LotFrontage</th>\n",
       "      <th>LotArea</th>\n",
       "      <th>Street</th>\n",
       "      <th>Alley</th>\n",
       "      <th>LotShape</th>\n",
       "      <th>LandContour</th>\n",
       "      <th>Utilities</th>\n",
       "      <th>LotConfig</th>\n",
       "      <th>...</th>\n",
       "      <th>PoolArea</th>\n",
       "      <th>PoolQC</th>\n",
       "      <th>Fence</th>\n",
       "      <th>MiscFeature</th>\n",
       "      <th>MiscVal</th>\n",
       "      <th>MoSold</th>\n",
       "      <th>YrSold</th>\n",
       "      <th>SaleType</th>\n",
       "      <th>SaleCondition</th>\n",
       "      <th>SalePrice</th>\n",
       "    </tr>\n",
       "    <tr>\n",
       "      <th>Id</th>\n",
       "      <th></th>\n",
       "      <th></th>\n",
       "      <th></th>\n",
       "      <th></th>\n",
       "      <th></th>\n",
       "      <th></th>\n",
       "      <th></th>\n",
       "      <th></th>\n",
       "      <th></th>\n",
       "      <th></th>\n",
       "      <th></th>\n",
       "      <th></th>\n",
       "      <th></th>\n",
       "      <th></th>\n",
       "      <th></th>\n",
       "      <th></th>\n",
       "      <th></th>\n",
       "      <th></th>\n",
       "      <th></th>\n",
       "      <th></th>\n",
       "      <th></th>\n",
       "    </tr>\n",
       "  </thead>\n",
       "  <tbody>\n",
       "    <tr>\n",
       "      <th>1</th>\n",
       "      <td>60</td>\n",
       "      <td>RL</td>\n",
       "      <td>65.0</td>\n",
       "      <td>8450</td>\n",
       "      <td>Pave</td>\n",
       "      <td>NaN</td>\n",
       "      <td>Reg</td>\n",
       "      <td>Lvl</td>\n",
       "      <td>AllPub</td>\n",
       "      <td>Inside</td>\n",
       "      <td>...</td>\n",
       "      <td>0</td>\n",
       "      <td>NaN</td>\n",
       "      <td>NaN</td>\n",
       "      <td>NaN</td>\n",
       "      <td>0</td>\n",
       "      <td>2</td>\n",
       "      <td>2008</td>\n",
       "      <td>WD</td>\n",
       "      <td>Normal</td>\n",
       "      <td>208500</td>\n",
       "    </tr>\n",
       "    <tr>\n",
       "      <th>2</th>\n",
       "      <td>20</td>\n",
       "      <td>RL</td>\n",
       "      <td>80.0</td>\n",
       "      <td>9600</td>\n",
       "      <td>Pave</td>\n",
       "      <td>NaN</td>\n",
       "      <td>Reg</td>\n",
       "      <td>Lvl</td>\n",
       "      <td>AllPub</td>\n",
       "      <td>FR2</td>\n",
       "      <td>...</td>\n",
       "      <td>0</td>\n",
       "      <td>NaN</td>\n",
       "      <td>NaN</td>\n",
       "      <td>NaN</td>\n",
       "      <td>0</td>\n",
       "      <td>5</td>\n",
       "      <td>2007</td>\n",
       "      <td>WD</td>\n",
       "      <td>Normal</td>\n",
       "      <td>181500</td>\n",
       "    </tr>\n",
       "    <tr>\n",
       "      <th>3</th>\n",
       "      <td>60</td>\n",
       "      <td>RL</td>\n",
       "      <td>68.0</td>\n",
       "      <td>11250</td>\n",
       "      <td>Pave</td>\n",
       "      <td>NaN</td>\n",
       "      <td>IR1</td>\n",
       "      <td>Lvl</td>\n",
       "      <td>AllPub</td>\n",
       "      <td>Inside</td>\n",
       "      <td>...</td>\n",
       "      <td>0</td>\n",
       "      <td>NaN</td>\n",
       "      <td>NaN</td>\n",
       "      <td>NaN</td>\n",
       "      <td>0</td>\n",
       "      <td>9</td>\n",
       "      <td>2008</td>\n",
       "      <td>WD</td>\n",
       "      <td>Normal</td>\n",
       "      <td>223500</td>\n",
       "    </tr>\n",
       "    <tr>\n",
       "      <th>4</th>\n",
       "      <td>70</td>\n",
       "      <td>RL</td>\n",
       "      <td>60.0</td>\n",
       "      <td>9550</td>\n",
       "      <td>Pave</td>\n",
       "      <td>NaN</td>\n",
       "      <td>IR1</td>\n",
       "      <td>Lvl</td>\n",
       "      <td>AllPub</td>\n",
       "      <td>Corner</td>\n",
       "      <td>...</td>\n",
       "      <td>0</td>\n",
       "      <td>NaN</td>\n",
       "      <td>NaN</td>\n",
       "      <td>NaN</td>\n",
       "      <td>0</td>\n",
       "      <td>2</td>\n",
       "      <td>2006</td>\n",
       "      <td>WD</td>\n",
       "      <td>Abnorml</td>\n",
       "      <td>140000</td>\n",
       "    </tr>\n",
       "    <tr>\n",
       "      <th>5</th>\n",
       "      <td>60</td>\n",
       "      <td>RL</td>\n",
       "      <td>84.0</td>\n",
       "      <td>14260</td>\n",
       "      <td>Pave</td>\n",
       "      <td>NaN</td>\n",
       "      <td>IR1</td>\n",
       "      <td>Lvl</td>\n",
       "      <td>AllPub</td>\n",
       "      <td>FR2</td>\n",
       "      <td>...</td>\n",
       "      <td>0</td>\n",
       "      <td>NaN</td>\n",
       "      <td>NaN</td>\n",
       "      <td>NaN</td>\n",
       "      <td>0</td>\n",
       "      <td>12</td>\n",
       "      <td>2008</td>\n",
       "      <td>WD</td>\n",
       "      <td>Normal</td>\n",
       "      <td>250000</td>\n",
       "    </tr>\n",
       "    <tr>\n",
       "      <th>...</th>\n",
       "      <td>...</td>\n",
       "      <td>...</td>\n",
       "      <td>...</td>\n",
       "      <td>...</td>\n",
       "      <td>...</td>\n",
       "      <td>...</td>\n",
       "      <td>...</td>\n",
       "      <td>...</td>\n",
       "      <td>...</td>\n",
       "      <td>...</td>\n",
       "      <td>...</td>\n",
       "      <td>...</td>\n",
       "      <td>...</td>\n",
       "      <td>...</td>\n",
       "      <td>...</td>\n",
       "      <td>...</td>\n",
       "      <td>...</td>\n",
       "      <td>...</td>\n",
       "      <td>...</td>\n",
       "      <td>...</td>\n",
       "      <td>...</td>\n",
       "    </tr>\n",
       "    <tr>\n",
       "      <th>1456</th>\n",
       "      <td>60</td>\n",
       "      <td>RL</td>\n",
       "      <td>62.0</td>\n",
       "      <td>7917</td>\n",
       "      <td>Pave</td>\n",
       "      <td>NaN</td>\n",
       "      <td>Reg</td>\n",
       "      <td>Lvl</td>\n",
       "      <td>AllPub</td>\n",
       "      <td>Inside</td>\n",
       "      <td>...</td>\n",
       "      <td>0</td>\n",
       "      <td>NaN</td>\n",
       "      <td>NaN</td>\n",
       "      <td>NaN</td>\n",
       "      <td>0</td>\n",
       "      <td>8</td>\n",
       "      <td>2007</td>\n",
       "      <td>WD</td>\n",
       "      <td>Normal</td>\n",
       "      <td>175000</td>\n",
       "    </tr>\n",
       "    <tr>\n",
       "      <th>1457</th>\n",
       "      <td>20</td>\n",
       "      <td>RL</td>\n",
       "      <td>85.0</td>\n",
       "      <td>13175</td>\n",
       "      <td>Pave</td>\n",
       "      <td>NaN</td>\n",
       "      <td>Reg</td>\n",
       "      <td>Lvl</td>\n",
       "      <td>AllPub</td>\n",
       "      <td>Inside</td>\n",
       "      <td>...</td>\n",
       "      <td>0</td>\n",
       "      <td>NaN</td>\n",
       "      <td>MnPrv</td>\n",
       "      <td>NaN</td>\n",
       "      <td>0</td>\n",
       "      <td>2</td>\n",
       "      <td>2010</td>\n",
       "      <td>WD</td>\n",
       "      <td>Normal</td>\n",
       "      <td>210000</td>\n",
       "    </tr>\n",
       "    <tr>\n",
       "      <th>1458</th>\n",
       "      <td>70</td>\n",
       "      <td>RL</td>\n",
       "      <td>66.0</td>\n",
       "      <td>9042</td>\n",
       "      <td>Pave</td>\n",
       "      <td>NaN</td>\n",
       "      <td>Reg</td>\n",
       "      <td>Lvl</td>\n",
       "      <td>AllPub</td>\n",
       "      <td>Inside</td>\n",
       "      <td>...</td>\n",
       "      <td>0</td>\n",
       "      <td>NaN</td>\n",
       "      <td>GdPrv</td>\n",
       "      <td>Shed</td>\n",
       "      <td>2500</td>\n",
       "      <td>5</td>\n",
       "      <td>2010</td>\n",
       "      <td>WD</td>\n",
       "      <td>Normal</td>\n",
       "      <td>266500</td>\n",
       "    </tr>\n",
       "    <tr>\n",
       "      <th>1459</th>\n",
       "      <td>20</td>\n",
       "      <td>RL</td>\n",
       "      <td>68.0</td>\n",
       "      <td>9717</td>\n",
       "      <td>Pave</td>\n",
       "      <td>NaN</td>\n",
       "      <td>Reg</td>\n",
       "      <td>Lvl</td>\n",
       "      <td>AllPub</td>\n",
       "      <td>Inside</td>\n",
       "      <td>...</td>\n",
       "      <td>0</td>\n",
       "      <td>NaN</td>\n",
       "      <td>NaN</td>\n",
       "      <td>NaN</td>\n",
       "      <td>0</td>\n",
       "      <td>4</td>\n",
       "      <td>2010</td>\n",
       "      <td>WD</td>\n",
       "      <td>Normal</td>\n",
       "      <td>142125</td>\n",
       "    </tr>\n",
       "    <tr>\n",
       "      <th>1460</th>\n",
       "      <td>20</td>\n",
       "      <td>RL</td>\n",
       "      <td>75.0</td>\n",
       "      <td>9937</td>\n",
       "      <td>Pave</td>\n",
       "      <td>NaN</td>\n",
       "      <td>Reg</td>\n",
       "      <td>Lvl</td>\n",
       "      <td>AllPub</td>\n",
       "      <td>Inside</td>\n",
       "      <td>...</td>\n",
       "      <td>0</td>\n",
       "      <td>NaN</td>\n",
       "      <td>NaN</td>\n",
       "      <td>NaN</td>\n",
       "      <td>0</td>\n",
       "      <td>6</td>\n",
       "      <td>2008</td>\n",
       "      <td>WD</td>\n",
       "      <td>Normal</td>\n",
       "      <td>147500</td>\n",
       "    </tr>\n",
       "  </tbody>\n",
       "</table>\n",
       "<p>1460 rows × 80 columns</p>\n",
       "</div>"
      ],
      "text/plain": [
       "      MSSubClass MSZoning  LotFrontage  LotArea Street Alley LotShape  \\\n",
       "Id                                                                      \n",
       "1             60       RL         65.0     8450   Pave   NaN      Reg   \n",
       "2             20       RL         80.0     9600   Pave   NaN      Reg   \n",
       "3             60       RL         68.0    11250   Pave   NaN      IR1   \n",
       "4             70       RL         60.0     9550   Pave   NaN      IR1   \n",
       "5             60       RL         84.0    14260   Pave   NaN      IR1   \n",
       "...          ...      ...          ...      ...    ...   ...      ...   \n",
       "1456          60       RL         62.0     7917   Pave   NaN      Reg   \n",
       "1457          20       RL         85.0    13175   Pave   NaN      Reg   \n",
       "1458          70       RL         66.0     9042   Pave   NaN      Reg   \n",
       "1459          20       RL         68.0     9717   Pave   NaN      Reg   \n",
       "1460          20       RL         75.0     9937   Pave   NaN      Reg   \n",
       "\n",
       "     LandContour Utilities LotConfig  ... PoolArea PoolQC  Fence MiscFeature  \\\n",
       "Id                                    ...                                      \n",
       "1            Lvl    AllPub    Inside  ...        0    NaN    NaN         NaN   \n",
       "2            Lvl    AllPub       FR2  ...        0    NaN    NaN         NaN   \n",
       "3            Lvl    AllPub    Inside  ...        0    NaN    NaN         NaN   \n",
       "4            Lvl    AllPub    Corner  ...        0    NaN    NaN         NaN   \n",
       "5            Lvl    AllPub       FR2  ...        0    NaN    NaN         NaN   \n",
       "...          ...       ...       ...  ...      ...    ...    ...         ...   \n",
       "1456         Lvl    AllPub    Inside  ...        0    NaN    NaN         NaN   \n",
       "1457         Lvl    AllPub    Inside  ...        0    NaN  MnPrv         NaN   \n",
       "1458         Lvl    AllPub    Inside  ...        0    NaN  GdPrv        Shed   \n",
       "1459         Lvl    AllPub    Inside  ...        0    NaN    NaN         NaN   \n",
       "1460         Lvl    AllPub    Inside  ...        0    NaN    NaN         NaN   \n",
       "\n",
       "     MiscVal MoSold  YrSold  SaleType  SaleCondition  SalePrice  \n",
       "Id                                                               \n",
       "1          0      2    2008        WD         Normal     208500  \n",
       "2          0      5    2007        WD         Normal     181500  \n",
       "3          0      9    2008        WD         Normal     223500  \n",
       "4          0      2    2006        WD        Abnorml     140000  \n",
       "5          0     12    2008        WD         Normal     250000  \n",
       "...      ...    ...     ...       ...            ...        ...  \n",
       "1456       0      8    2007        WD         Normal     175000  \n",
       "1457       0      2    2010        WD         Normal     210000  \n",
       "1458    2500      5    2010        WD         Normal     266500  \n",
       "1459       0      4    2010        WD         Normal     142125  \n",
       "1460       0      6    2008        WD         Normal     147500  \n",
       "\n",
       "[1460 rows x 80 columns]"
      ]
     },
     "execution_count": 5,
     "metadata": {},
     "output_type": "execute_result"
    }
   ],
   "source": [
    "# Run this cell without changes\n",
    "df"
   ]
  },
  {
   "cell_type": "code",
   "execution_count": 6,
   "metadata": {},
   "outputs": [
    {
     "data": {
      "text/html": [
       "<div>\n",
       "<style scoped>\n",
       "    .dataframe tbody tr th:only-of-type {\n",
       "        vertical-align: middle;\n",
       "    }\n",
       "\n",
       "    .dataframe tbody tr th {\n",
       "        vertical-align: top;\n",
       "    }\n",
       "\n",
       "    .dataframe thead th {\n",
       "        text-align: right;\n",
       "    }\n",
       "</style>\n",
       "<table border=\"1\" class=\"dataframe\">\n",
       "  <thead>\n",
       "    <tr style=\"text-align: right;\">\n",
       "      <th></th>\n",
       "      <th>MSSubClass</th>\n",
       "      <th>MSZoning</th>\n",
       "      <th>LotFrontage</th>\n",
       "      <th>LotArea</th>\n",
       "      <th>Street</th>\n",
       "      <th>Alley</th>\n",
       "      <th>LotShape</th>\n",
       "      <th>LandContour</th>\n",
       "      <th>Utilities</th>\n",
       "      <th>LotConfig</th>\n",
       "      <th>...</th>\n",
       "      <th>PoolArea</th>\n",
       "      <th>PoolQC</th>\n",
       "      <th>Fence</th>\n",
       "      <th>MiscFeature</th>\n",
       "      <th>MiscVal</th>\n",
       "      <th>MoSold</th>\n",
       "      <th>YrSold</th>\n",
       "      <th>SaleType</th>\n",
       "      <th>SaleCondition</th>\n",
       "      <th>SalePrice</th>\n",
       "    </tr>\n",
       "    <tr>\n",
       "      <th>Id</th>\n",
       "      <th></th>\n",
       "      <th></th>\n",
       "      <th></th>\n",
       "      <th></th>\n",
       "      <th></th>\n",
       "      <th></th>\n",
       "      <th></th>\n",
       "      <th></th>\n",
       "      <th></th>\n",
       "      <th></th>\n",
       "      <th></th>\n",
       "      <th></th>\n",
       "      <th></th>\n",
       "      <th></th>\n",
       "      <th></th>\n",
       "      <th></th>\n",
       "      <th></th>\n",
       "      <th></th>\n",
       "      <th></th>\n",
       "      <th></th>\n",
       "      <th></th>\n",
       "    </tr>\n",
       "  </thead>\n",
       "  <tbody>\n",
       "    <tr>\n",
       "      <th>1</th>\n",
       "      <td>60</td>\n",
       "      <td>RL</td>\n",
       "      <td>65.0</td>\n",
       "      <td>8450</td>\n",
       "      <td>Pave</td>\n",
       "      <td>NaN</td>\n",
       "      <td>Reg</td>\n",
       "      <td>Lvl</td>\n",
       "      <td>AllPub</td>\n",
       "      <td>Inside</td>\n",
       "      <td>...</td>\n",
       "      <td>0</td>\n",
       "      <td>NaN</td>\n",
       "      <td>NaN</td>\n",
       "      <td>NaN</td>\n",
       "      <td>0</td>\n",
       "      <td>2</td>\n",
       "      <td>2008</td>\n",
       "      <td>WD</td>\n",
       "      <td>Normal</td>\n",
       "      <td>208500</td>\n",
       "    </tr>\n",
       "    <tr>\n",
       "      <th>2</th>\n",
       "      <td>20</td>\n",
       "      <td>RL</td>\n",
       "      <td>80.0</td>\n",
       "      <td>9600</td>\n",
       "      <td>Pave</td>\n",
       "      <td>NaN</td>\n",
       "      <td>Reg</td>\n",
       "      <td>Lvl</td>\n",
       "      <td>AllPub</td>\n",
       "      <td>FR2</td>\n",
       "      <td>...</td>\n",
       "      <td>0</td>\n",
       "      <td>NaN</td>\n",
       "      <td>NaN</td>\n",
       "      <td>NaN</td>\n",
       "      <td>0</td>\n",
       "      <td>5</td>\n",
       "      <td>2007</td>\n",
       "      <td>WD</td>\n",
       "      <td>Normal</td>\n",
       "      <td>181500</td>\n",
       "    </tr>\n",
       "    <tr>\n",
       "      <th>3</th>\n",
       "      <td>60</td>\n",
       "      <td>RL</td>\n",
       "      <td>68.0</td>\n",
       "      <td>11250</td>\n",
       "      <td>Pave</td>\n",
       "      <td>NaN</td>\n",
       "      <td>IR1</td>\n",
       "      <td>Lvl</td>\n",
       "      <td>AllPub</td>\n",
       "      <td>Inside</td>\n",
       "      <td>...</td>\n",
       "      <td>0</td>\n",
       "      <td>NaN</td>\n",
       "      <td>NaN</td>\n",
       "      <td>NaN</td>\n",
       "      <td>0</td>\n",
       "      <td>9</td>\n",
       "      <td>2008</td>\n",
       "      <td>WD</td>\n",
       "      <td>Normal</td>\n",
       "      <td>223500</td>\n",
       "    </tr>\n",
       "    <tr>\n",
       "      <th>4</th>\n",
       "      <td>70</td>\n",
       "      <td>RL</td>\n",
       "      <td>60.0</td>\n",
       "      <td>9550</td>\n",
       "      <td>Pave</td>\n",
       "      <td>NaN</td>\n",
       "      <td>IR1</td>\n",
       "      <td>Lvl</td>\n",
       "      <td>AllPub</td>\n",
       "      <td>Corner</td>\n",
       "      <td>...</td>\n",
       "      <td>0</td>\n",
       "      <td>NaN</td>\n",
       "      <td>NaN</td>\n",
       "      <td>NaN</td>\n",
       "      <td>0</td>\n",
       "      <td>2</td>\n",
       "      <td>2006</td>\n",
       "      <td>WD</td>\n",
       "      <td>Abnorml</td>\n",
       "      <td>140000</td>\n",
       "    </tr>\n",
       "    <tr>\n",
       "      <th>5</th>\n",
       "      <td>60</td>\n",
       "      <td>RL</td>\n",
       "      <td>84.0</td>\n",
       "      <td>14260</td>\n",
       "      <td>Pave</td>\n",
       "      <td>NaN</td>\n",
       "      <td>IR1</td>\n",
       "      <td>Lvl</td>\n",
       "      <td>AllPub</td>\n",
       "      <td>FR2</td>\n",
       "      <td>...</td>\n",
       "      <td>0</td>\n",
       "      <td>NaN</td>\n",
       "      <td>NaN</td>\n",
       "      <td>NaN</td>\n",
       "      <td>0</td>\n",
       "      <td>12</td>\n",
       "      <td>2008</td>\n",
       "      <td>WD</td>\n",
       "      <td>Normal</td>\n",
       "      <td>250000</td>\n",
       "    </tr>\n",
       "    <tr>\n",
       "      <th>...</th>\n",
       "      <td>...</td>\n",
       "      <td>...</td>\n",
       "      <td>...</td>\n",
       "      <td>...</td>\n",
       "      <td>...</td>\n",
       "      <td>...</td>\n",
       "      <td>...</td>\n",
       "      <td>...</td>\n",
       "      <td>...</td>\n",
       "      <td>...</td>\n",
       "      <td>...</td>\n",
       "      <td>...</td>\n",
       "      <td>...</td>\n",
       "      <td>...</td>\n",
       "      <td>...</td>\n",
       "      <td>...</td>\n",
       "      <td>...</td>\n",
       "      <td>...</td>\n",
       "      <td>...</td>\n",
       "      <td>...</td>\n",
       "      <td>...</td>\n",
       "    </tr>\n",
       "    <tr>\n",
       "      <th>1456</th>\n",
       "      <td>60</td>\n",
       "      <td>RL</td>\n",
       "      <td>62.0</td>\n",
       "      <td>7917</td>\n",
       "      <td>Pave</td>\n",
       "      <td>NaN</td>\n",
       "      <td>Reg</td>\n",
       "      <td>Lvl</td>\n",
       "      <td>AllPub</td>\n",
       "      <td>Inside</td>\n",
       "      <td>...</td>\n",
       "      <td>0</td>\n",
       "      <td>NaN</td>\n",
       "      <td>NaN</td>\n",
       "      <td>NaN</td>\n",
       "      <td>0</td>\n",
       "      <td>8</td>\n",
       "      <td>2007</td>\n",
       "      <td>WD</td>\n",
       "      <td>Normal</td>\n",
       "      <td>175000</td>\n",
       "    </tr>\n",
       "    <tr>\n",
       "      <th>1457</th>\n",
       "      <td>20</td>\n",
       "      <td>RL</td>\n",
       "      <td>85.0</td>\n",
       "      <td>13175</td>\n",
       "      <td>Pave</td>\n",
       "      <td>NaN</td>\n",
       "      <td>Reg</td>\n",
       "      <td>Lvl</td>\n",
       "      <td>AllPub</td>\n",
       "      <td>Inside</td>\n",
       "      <td>...</td>\n",
       "      <td>0</td>\n",
       "      <td>NaN</td>\n",
       "      <td>MnPrv</td>\n",
       "      <td>NaN</td>\n",
       "      <td>0</td>\n",
       "      <td>2</td>\n",
       "      <td>2010</td>\n",
       "      <td>WD</td>\n",
       "      <td>Normal</td>\n",
       "      <td>210000</td>\n",
       "    </tr>\n",
       "    <tr>\n",
       "      <th>1458</th>\n",
       "      <td>70</td>\n",
       "      <td>RL</td>\n",
       "      <td>66.0</td>\n",
       "      <td>9042</td>\n",
       "      <td>Pave</td>\n",
       "      <td>NaN</td>\n",
       "      <td>Reg</td>\n",
       "      <td>Lvl</td>\n",
       "      <td>AllPub</td>\n",
       "      <td>Inside</td>\n",
       "      <td>...</td>\n",
       "      <td>0</td>\n",
       "      <td>NaN</td>\n",
       "      <td>GdPrv</td>\n",
       "      <td>Shed</td>\n",
       "      <td>2500</td>\n",
       "      <td>5</td>\n",
       "      <td>2010</td>\n",
       "      <td>WD</td>\n",
       "      <td>Normal</td>\n",
       "      <td>266500</td>\n",
       "    </tr>\n",
       "    <tr>\n",
       "      <th>1459</th>\n",
       "      <td>20</td>\n",
       "      <td>RL</td>\n",
       "      <td>68.0</td>\n",
       "      <td>9717</td>\n",
       "      <td>Pave</td>\n",
       "      <td>NaN</td>\n",
       "      <td>Reg</td>\n",
       "      <td>Lvl</td>\n",
       "      <td>AllPub</td>\n",
       "      <td>Inside</td>\n",
       "      <td>...</td>\n",
       "      <td>0</td>\n",
       "      <td>NaN</td>\n",
       "      <td>NaN</td>\n",
       "      <td>NaN</td>\n",
       "      <td>0</td>\n",
       "      <td>4</td>\n",
       "      <td>2010</td>\n",
       "      <td>WD</td>\n",
       "      <td>Normal</td>\n",
       "      <td>142125</td>\n",
       "    </tr>\n",
       "    <tr>\n",
       "      <th>1460</th>\n",
       "      <td>20</td>\n",
       "      <td>RL</td>\n",
       "      <td>75.0</td>\n",
       "      <td>9937</td>\n",
       "      <td>Pave</td>\n",
       "      <td>NaN</td>\n",
       "      <td>Reg</td>\n",
       "      <td>Lvl</td>\n",
       "      <td>AllPub</td>\n",
       "      <td>Inside</td>\n",
       "      <td>...</td>\n",
       "      <td>0</td>\n",
       "      <td>NaN</td>\n",
       "      <td>NaN</td>\n",
       "      <td>NaN</td>\n",
       "      <td>0</td>\n",
       "      <td>6</td>\n",
       "      <td>2008</td>\n",
       "      <td>WD</td>\n",
       "      <td>Normal</td>\n",
       "      <td>147500</td>\n",
       "    </tr>\n",
       "  </tbody>\n",
       "</table>\n",
       "<p>1460 rows × 80 columns</p>\n",
       "</div>"
      ],
      "text/plain": [
       "      MSSubClass MSZoning  LotFrontage  LotArea Street Alley LotShape  \\\n",
       "Id                                                                      \n",
       "1             60       RL         65.0     8450   Pave   NaN      Reg   \n",
       "2             20       RL         80.0     9600   Pave   NaN      Reg   \n",
       "3             60       RL         68.0    11250   Pave   NaN      IR1   \n",
       "4             70       RL         60.0     9550   Pave   NaN      IR1   \n",
       "5             60       RL         84.0    14260   Pave   NaN      IR1   \n",
       "...          ...      ...          ...      ...    ...   ...      ...   \n",
       "1456          60       RL         62.0     7917   Pave   NaN      Reg   \n",
       "1457          20       RL         85.0    13175   Pave   NaN      Reg   \n",
       "1458          70       RL         66.0     9042   Pave   NaN      Reg   \n",
       "1459          20       RL         68.0     9717   Pave   NaN      Reg   \n",
       "1460          20       RL         75.0     9937   Pave   NaN      Reg   \n",
       "\n",
       "     LandContour Utilities LotConfig  ... PoolArea PoolQC  Fence MiscFeature  \\\n",
       "Id                                    ...                                      \n",
       "1            Lvl    AllPub    Inside  ...        0    NaN    NaN         NaN   \n",
       "2            Lvl    AllPub       FR2  ...        0    NaN    NaN         NaN   \n",
       "3            Lvl    AllPub    Inside  ...        0    NaN    NaN         NaN   \n",
       "4            Lvl    AllPub    Corner  ...        0    NaN    NaN         NaN   \n",
       "5            Lvl    AllPub       FR2  ...        0    NaN    NaN         NaN   \n",
       "...          ...       ...       ...  ...      ...    ...    ...         ...   \n",
       "1456         Lvl    AllPub    Inside  ...        0    NaN    NaN         NaN   \n",
       "1457         Lvl    AllPub    Inside  ...        0    NaN  MnPrv         NaN   \n",
       "1458         Lvl    AllPub    Inside  ...        0    NaN  GdPrv        Shed   \n",
       "1459         Lvl    AllPub    Inside  ...        0    NaN    NaN         NaN   \n",
       "1460         Lvl    AllPub    Inside  ...        0    NaN    NaN         NaN   \n",
       "\n",
       "     MiscVal MoSold  YrSold  SaleType  SaleCondition  SalePrice  \n",
       "Id                                                               \n",
       "1          0      2    2008        WD         Normal     208500  \n",
       "2          0      5    2007        WD         Normal     181500  \n",
       "3          0      9    2008        WD         Normal     223500  \n",
       "4          0      2    2006        WD        Abnorml     140000  \n",
       "5          0     12    2008        WD         Normal     250000  \n",
       "...      ...    ...     ...       ...            ...        ...  \n",
       "1456       0      8    2007        WD         Normal     175000  \n",
       "1457       0      2    2010        WD         Normal     210000  \n",
       "1458    2500      5    2010        WD         Normal     266500  \n",
       "1459       0      4    2010        WD         Normal     142125  \n",
       "1460       0      6    2008        WD         Normal     147500  \n",
       "\n",
       "[1460 rows x 80 columns]"
      ]
     },
     "execution_count": 6,
     "metadata": {},
     "output_type": "execute_result"
    }
   ],
   "source": [
    "\n",
    "pd.set_option('display.max_columns', None)\n",
    "df\n",
    "pd.reset_option('display.max_columns', None)\n",
    "df\n"
   ]
  },
  {
   "cell_type": "code",
   "execution_count": null,
   "metadata": {},
   "outputs": [],
   "source": []
  },
  {
   "cell_type": "code",
   "execution_count": 7,
   "metadata": {
    "scrolled": true
   },
   "outputs": [
    {
     "name": "stdout",
     "output_type": "stream",
     "text": [
      "<class 'pandas.core.frame.DataFrame'>\n",
      "Int64Index: 1460 entries, 1 to 1460\n",
      "Data columns (total 80 columns):\n",
      " #   Column         Non-Null Count  Dtype  \n",
      "---  ------         --------------  -----  \n",
      " 0   MSSubClass     1460 non-null   int64  \n",
      " 1   MSZoning       1460 non-null   object \n",
      " 2   LotFrontage    1201 non-null   float64\n",
      " 3   LotArea        1460 non-null   int64  \n",
      " 4   Street         1460 non-null   object \n",
      " 5   Alley          91 non-null     object \n",
      " 6   LotShape       1460 non-null   object \n",
      " 7   LandContour    1460 non-null   object \n",
      " 8   Utilities      1460 non-null   object \n",
      " 9   LotConfig      1460 non-null   object \n",
      " 10  LandSlope      1460 non-null   object \n",
      " 11  Neighborhood   1460 non-null   object \n",
      " 12  Condition1     1460 non-null   object \n",
      " 13  Condition2     1460 non-null   object \n",
      " 14  BldgType       1460 non-null   object \n",
      " 15  HouseStyle     1460 non-null   object \n",
      " 16  OverallQual    1460 non-null   int64  \n",
      " 17  OverallCond    1460 non-null   int64  \n",
      " 18  YearBuilt      1460 non-null   int64  \n",
      " 19  YearRemodAdd   1460 non-null   int64  \n",
      " 20  RoofStyle      1460 non-null   object \n",
      " 21  RoofMatl       1460 non-null   object \n",
      " 22  Exterior1st    1460 non-null   object \n",
      " 23  Exterior2nd    1460 non-null   object \n",
      " 24  MasVnrType     1452 non-null   object \n",
      " 25  MasVnrArea     1452 non-null   float64\n",
      " 26  ExterQual      1460 non-null   object \n",
      " 27  ExterCond      1460 non-null   object \n",
      " 28  Foundation     1460 non-null   object \n",
      " 29  BsmtQual       1423 non-null   object \n",
      " 30  BsmtCond       1423 non-null   object \n",
      " 31  BsmtExposure   1422 non-null   object \n",
      " 32  BsmtFinType1   1423 non-null   object \n",
      " 33  BsmtFinSF1     1460 non-null   int64  \n",
      " 34  BsmtFinType2   1422 non-null   object \n",
      " 35  BsmtFinSF2     1460 non-null   int64  \n",
      " 36  BsmtUnfSF      1460 non-null   int64  \n",
      " 37  TotalBsmtSF    1460 non-null   int64  \n",
      " 38  Heating        1460 non-null   object \n",
      " 39  HeatingQC      1460 non-null   object \n",
      " 40  CentralAir     1460 non-null   object \n",
      " 41  Electrical     1459 non-null   object \n",
      " 42  1stFlrSF       1460 non-null   int64  \n",
      " 43  2ndFlrSF       1460 non-null   int64  \n",
      " 44  LowQualFinSF   1460 non-null   int64  \n",
      " 45  GrLivArea      1460 non-null   int64  \n",
      " 46  BsmtFullBath   1460 non-null   int64  \n",
      " 47  BsmtHalfBath   1460 non-null   int64  \n",
      " 48  FullBath       1460 non-null   int64  \n",
      " 49  HalfBath       1460 non-null   int64  \n",
      " 50  BedroomAbvGr   1460 non-null   int64  \n",
      " 51  KitchenAbvGr   1460 non-null   int64  \n",
      " 52  KitchenQual    1460 non-null   object \n",
      " 53  TotRmsAbvGrd   1460 non-null   int64  \n",
      " 54  Functional     1460 non-null   object \n",
      " 55  Fireplaces     1460 non-null   int64  \n",
      " 56  FireplaceQu    770 non-null    object \n",
      " 57  GarageType     1379 non-null   object \n",
      " 58  GarageYrBlt    1379 non-null   float64\n",
      " 59  GarageFinish   1379 non-null   object \n",
      " 60  GarageCars     1460 non-null   int64  \n",
      " 61  GarageArea     1460 non-null   int64  \n",
      " 62  GarageQual     1379 non-null   object \n",
      " 63  GarageCond     1379 non-null   object \n",
      " 64  PavedDrive     1460 non-null   object \n",
      " 65  WoodDeckSF     1460 non-null   int64  \n",
      " 66  OpenPorchSF    1460 non-null   int64  \n",
      " 67  EnclosedPorch  1460 non-null   int64  \n",
      " 68  3SsnPorch      1460 non-null   int64  \n",
      " 69  ScreenPorch    1460 non-null   int64  \n",
      " 70  PoolArea       1460 non-null   int64  \n",
      " 71  PoolQC         7 non-null      object \n",
      " 72  Fence          281 non-null    object \n",
      " 73  MiscFeature    54 non-null     object \n",
      " 74  MiscVal        1460 non-null   int64  \n",
      " 75  MoSold         1460 non-null   int64  \n",
      " 76  YrSold         1460 non-null   int64  \n",
      " 77  SaleType       1460 non-null   object \n",
      " 78  SaleCondition  1460 non-null   object \n",
      " 79  SalePrice      1460 non-null   int64  \n",
      "dtypes: float64(3), int64(34), object(43)\n",
      "memory usage: 923.9+ KB\n"
     ]
    }
   ],
   "source": [
    "# Run this cell without changes\n",
    "df.info()"
   ]
  },
  {
   "cell_type": "code",
   "execution_count": 8,
   "metadata": {
    "scrolled": false
   },
   "outputs": [
    {
     "data": {
      "text/plain": [
       "PoolQC           1453\n",
       "MiscFeature      1406\n",
       "Alley            1369\n",
       "Fence            1179\n",
       "FireplaceQu       690\n",
       "LotFrontage       259\n",
       "GarageType         81\n",
       "GarageCond         81\n",
       "GarageFinish       81\n",
       "GarageQual         81\n",
       "GarageYrBlt        81\n",
       "BsmtFinType2       38\n",
       "BsmtExposure       38\n",
       "BsmtQual           37\n",
       "BsmtCond           37\n",
       "BsmtFinType1       37\n",
       "MasVnrArea          8\n",
       "MasVnrType          8\n",
       "Electrical          1\n",
       "RoofMatl            0\n",
       "Exterior1st         0\n",
       "RoofStyle           0\n",
       "ExterQual           0\n",
       "Exterior2nd         0\n",
       "YearBuilt           0\n",
       "ExterCond           0\n",
       "Foundation          0\n",
       "YearRemodAdd        0\n",
       "SalePrice           0\n",
       "OverallCond         0\n",
       "OverallQual         0\n",
       "HouseStyle          0\n",
       "BldgType            0\n",
       "Condition2          0\n",
       "Condition1          0\n",
       "Neighborhood        0\n",
       "LandSlope           0\n",
       "LotConfig           0\n",
       "Utilities           0\n",
       "LandContour         0\n",
       "LotShape            0\n",
       "Street              0\n",
       "LotArea             0\n",
       "MSZoning            0\n",
       "BsmtFinSF1          0\n",
       "HeatingQC           0\n",
       "BsmtFinSF2          0\n",
       "EnclosedPorch       0\n",
       "Fireplaces          0\n",
       "GarageCars          0\n",
       "GarageArea          0\n",
       "PavedDrive          0\n",
       "WoodDeckSF          0\n",
       "OpenPorchSF         0\n",
       "3SsnPorch           0\n",
       "BsmtUnfSF           0\n",
       "ScreenPorch         0\n",
       "PoolArea            0\n",
       "MiscVal             0\n",
       "MoSold              0\n",
       "YrSold              0\n",
       "SaleType            0\n",
       "Functional          0\n",
       "TotRmsAbvGrd        0\n",
       "KitchenQual         0\n",
       "KitchenAbvGr        0\n",
       "BedroomAbvGr        0\n",
       "HalfBath            0\n",
       "FullBath            0\n",
       "BsmtHalfBath        0\n",
       "BsmtFullBath        0\n",
       "GrLivArea           0\n",
       "LowQualFinSF        0\n",
       "2ndFlrSF            0\n",
       "1stFlrSF            0\n",
       "CentralAir          0\n",
       "SaleCondition       0\n",
       "Heating             0\n",
       "TotalBsmtSF         0\n",
       "MSSubClass          0\n",
       "dtype: int64"
      ]
     },
     "execution_count": 8,
     "metadata": {},
     "output_type": "execute_result"
    }
   ],
   "source": [
    "#checking missing values\n",
    "missing_values = df.isnull().sum().sort_values(ascending = False)\n",
    "pd.set_option('display.max_rows', None)\n",
    "missing_values"
   ]
  },
  {
   "cell_type": "code",
   "execution_count": 9,
   "metadata": {},
   "outputs": [],
   "source": [
    "#addressing missing values\n",
    "\n",
    "df['Fence'] = df['Fence'].fillna(0)\n"
   ]
  },
  {
   "cell_type": "code",
   "execution_count": 12,
   "metadata": {},
   "outputs": [],
   "source": [
    "\n",
    "#filling missing values for columns using mean\n",
    "columns_for_mean = ['LotFrontage', 'MasVnrArea']\n",
    "df[columns_for_mean] = df[columns_for_mean].fillna(df[columns_for_mean].mean())\n",
    "\n"
   ]
  },
  {
   "cell_type": "code",
   "execution_count": 13,
   "metadata": {},
   "outputs": [],
   "source": [
    "#filling missing values using mode\n",
    "columns_for_mode = ['FireplaceQu', 'GarageYrBlt', 'GarageType', 'GarageQual', 'GarageCond', 'GarageFinish', 'BsmtFinType2', 'BsmtExposure', 'BsmtCond', 'BsmtFinType1', 'BsmtQual', 'MasVnrType', 'Electrical', 'Alley', 'PoolQC', 'MiscFeature']\n",
    "for column in columns_for_mode:\n",
    "    df[column] = df[column].fillna(df[column].mode()[0])"
   ]
  },
  {
   "cell_type": "code",
   "execution_count": 14,
   "metadata": {},
   "outputs": [
    {
     "data": {
      "text/plain": [
       "MSSubClass       0\n",
       "MSZoning         0\n",
       "LotFrontage      0\n",
       "LotArea          0\n",
       "Street           0\n",
       "Alley            0\n",
       "LotShape         0\n",
       "LandContour      0\n",
       "Utilities        0\n",
       "LotConfig        0\n",
       "LandSlope        0\n",
       "Neighborhood     0\n",
       "Condition1       0\n",
       "Condition2       0\n",
       "BldgType         0\n",
       "HouseStyle       0\n",
       "OverallQual      0\n",
       "OverallCond      0\n",
       "YearBuilt        0\n",
       "YearRemodAdd     0\n",
       "RoofStyle        0\n",
       "RoofMatl         0\n",
       "Exterior1st      0\n",
       "Exterior2nd      0\n",
       "MasVnrType       0\n",
       "MasVnrArea       0\n",
       "ExterQual        0\n",
       "ExterCond        0\n",
       "Foundation       0\n",
       "BsmtQual         0\n",
       "BsmtCond         0\n",
       "BsmtExposure     0\n",
       "BsmtFinType1     0\n",
       "BsmtFinSF1       0\n",
       "BsmtFinType2     0\n",
       "BsmtFinSF2       0\n",
       "BsmtUnfSF        0\n",
       "TotalBsmtSF      0\n",
       "Heating          0\n",
       "HeatingQC        0\n",
       "CentralAir       0\n",
       "Electrical       0\n",
       "1stFlrSF         0\n",
       "2ndFlrSF         0\n",
       "LowQualFinSF     0\n",
       "GrLivArea        0\n",
       "BsmtFullBath     0\n",
       "BsmtHalfBath     0\n",
       "FullBath         0\n",
       "HalfBath         0\n",
       "BedroomAbvGr     0\n",
       "KitchenAbvGr     0\n",
       "KitchenQual      0\n",
       "TotRmsAbvGrd     0\n",
       "Functional       0\n",
       "Fireplaces       0\n",
       "FireplaceQu      0\n",
       "GarageType       0\n",
       "GarageYrBlt      0\n",
       "GarageFinish     0\n",
       "GarageCars       0\n",
       "GarageArea       0\n",
       "GarageQual       0\n",
       "GarageCond       0\n",
       "PavedDrive       0\n",
       "WoodDeckSF       0\n",
       "OpenPorchSF      0\n",
       "EnclosedPorch    0\n",
       "3SsnPorch        0\n",
       "ScreenPorch      0\n",
       "PoolArea         0\n",
       "PoolQC           0\n",
       "Fence            0\n",
       "MiscFeature      0\n",
       "MiscVal          0\n",
       "MoSold           0\n",
       "YrSold           0\n",
       "SaleType         0\n",
       "SaleCondition    0\n",
       "SalePrice        0\n",
       "dtype: int64"
      ]
     },
     "execution_count": 14,
     "metadata": {},
     "output_type": "execute_result"
    }
   ],
   "source": [
    "#verify missing values\n",
    "df.isnull().sum()\n"
   ]
  },
  {
   "cell_type": "code",
   "execution_count": null,
   "metadata": {},
   "outputs": [],
   "source": [
    "\n"
   ]
  },
  {
   "cell_type": "markdown",
   "metadata": {},
   "source": [
    "## 2. Explore Data Distributions\n",
    "\n",
    "Write code to produce histograms showing the distributions of `SalePrice`, `TotRmsAbvGrd`, and `OverallCond`.\n",
    "\n",
    "Each histogram should have appropriate title and axes labels, as well as a black vertical line indicating the mean of the dataset. See the documentation for [plotting histograms](https://matplotlib.org/stable/api/_as_gen/matplotlib.axes.Axes.hist.html), [customizing axes](https://matplotlib.org/stable/api/axes_api.html#axis-labels-title-and-legend), and [plotting vertical lines](https://matplotlib.org/stable/api/_as_gen/matplotlib.axes.Axes.axvline.html#matplotlib.axes.Axes.axvline) as needed."
   ]
  },
  {
   "cell_type": "markdown",
   "metadata": {},
   "source": [
    "### Sale Price\n",
    "\n",
    "In the cell below, produce a histogram for `SalePrice`."
   ]
  },
  {
   "cell_type": "code",
   "execution_count": 17,
   "metadata": {},
   "outputs": [
    {
     "data": {
      "image/png": "[encoded data removed]",
      "text/plain": [
       "<Figure size 432x288 with 1 Axes>"
      ]
     },
     "metadata": {
      "needs_background": "light"
     },
     "output_type": "display_data"
    }
   ],
   "source": [
    "x = df['SalePrice']\n",
    "\n",
    "# plot the histogram\n",
    "plt.title('House Sale Price')   #Title of histogram\n",
    "plt.xlabel('SalePrice')     # Labels the x axis\n",
    "plt.ylabel('Count')   #Labels the Y axis\n",
    "plt.hist( x, bins = 38, edgecolor = 'black')   #bins prefarably = square root of data points therefore squareroot of 1460\n",
    "plt.ylim(0, 250)   # sets limit on the y axis\n",
    "plt.yticks(range(0, 251, 25))   #sets the y axis from 0-250 to increase by the interval 25\n",
    "plt.axvline(np.mean(x), color = 'black' , linestyle = 'dashed')   #plots a black vertical line indicating the mean of the dataset\n",
    "plt.show()   #displays the created histogram\n"
   ]
  },
  {
   "cell_type": "code",
   "execution_count": 16,
   "metadata": {},
   "outputs": [
    {
     "data": {
      "text/plain": [
       "180921.19589041095"
      ]
     },
     "execution_count": 16,
     "metadata": {},
     "output_type": "execute_result"
    }
   ],
   "source": [
    "#import numpy library\n",
    "import numpy as np\n",
    "#calculate mean\n",
    "np.mean(x)"
   ]
  },
  {
   "cell_type": "code",
   "execution_count": 18,
   "metadata": {},
   "outputs": [
    {
     "data": {
      "text/plain": [
       "163000.0"
      ]
     },
     "execution_count": 18,
     "metadata": {},
     "output_type": "execute_result"
    }
   ],
   "source": [
    "#calculate median\n",
    "np.median(x)"
   ]
  },
  {
   "cell_type": "code",
   "execution_count": 19,
   "metadata": {},
   "outputs": [
    {
     "data": {
      "text/plain": [
       "79415.29188606751"
      ]
     },
     "execution_count": 19,
     "metadata": {},
     "output_type": "execute_result"
    }
   ],
   "source": [
    "#calculate standard deviation\n",
    "np.std(x)"
   ]
  },
  {
   "cell_type": "markdown",
   "metadata": {},
   "source": [
    "In the cell below, interpret the above information."
   ]
  },
  {
   "cell_type": "markdown",
   "metadata": {},
   "source": [
    "# House Sale Price Histogram\n",
    "The Histogrm displays the distribution of the variable 'SalePrice' on axis X ,which represents the  selling prices of houses, and count on the Y axis which represents the number of houses sold at that price range.\n",
    "## Observations\n",
    "The distribution is right-skewed which means more houses are sold at a lower price compared to those sold at high price.\n",
    "## Interpretation\n",
    "### Summary statistics\n",
    "\n",
    "1. The mean is higher than the median which is usual for a right skewed disribution. This indicates that there are some high priced houses that are pulling the mean upwards.\n",
    "2. The standard variation is relatively high indicating variability in the sale prices of the houses.\n",
    "3. The histogram shows a peak between $100000 - $200000 meaning this is the most frequent price range for houses in the dataset.\n",
    "\n",
    "### Real Estate Market in Ames, Iowa between 2006 and 2010\n",
    "- The concentration of house price in the lower range suggests that most houses in the data set are affordable for the majority\n",
    "-  The right tail reflects the presence of a smaller segment of hihg-value homes\n",
    "- Market insight- Thiss distribution could indicate a market where affordable houising dominates with few luxury properties available\n",
    "\n",
    "\n",
    "\n"
   ]
  },
  {
   "cell_type": "markdown",
   "metadata": {},
   "source": [
    "### Total Rooms Above Grade\n",
    "\n",
    "In the cell below, produce a histogram for `TotRmsAbvGrd`."
   ]
  },
  {
   "cell_type": "code",
   "execution_count": 20,
   "metadata": {},
   "outputs": [
    {
     "data": {
      "image/png": "[encoded data removed]",
      "text/plain": [
       "<Figure size 432x288 with 1 Axes>"
      ]
     },
     "metadata": {
      "needs_background": "light"
     },
     "output_type": "display_data"
    }
   ],
   "source": [
    "x = df['TotRmsAbvGrd']\n",
    "\n",
    "# plot the histogram\n",
    "plt.title('Total Rooms Above Grade ')   #Title of histogram\n",
    "plt.xlabel('TotRmsAbvGrd')     # Labels the x axis\n",
    "plt.ylabel('Count')   #Labels the Y axis\n",
    "plt.hist( x, bins = 38, edgecolor = 'black')   #bins prefarably = square root of data points therefore squareroot of 1460\n",
    "plt.ylim(0, 450)   # sets limit on the y axis\n",
    "plt.yticks(range(0, 451, 50))   #sets the y axis from 0-450 to increase by the interval 50\n",
    "plt.axvline(np.mean(x), color = 'black' , linestyle = 'dashed')   #plots a black vertical line indicating the mean of the dataset\n",
    "plt.show()   #displays the created histogram"
   ]
  },
  {
   "cell_type": "markdown",
   "metadata": {},
   "source": [
    "Now, print out the mean, median, and standard deviation:"
   ]
  },
  {
   "cell_type": "code",
   "execution_count": 21,
   "metadata": {},
   "outputs": [
    {
     "data": {
      "text/plain": [
       "6.517808219178082"
      ]
     },
     "execution_count": 21,
     "metadata": {},
     "output_type": "execute_result"
    }
   ],
   "source": [
    "#calculate mean\n",
    "np.mean(x)"
   ]
  },
  {
   "cell_type": "code",
   "execution_count": 22,
   "metadata": {},
   "outputs": [
    {
     "data": {
      "text/plain": [
       "6.0"
      ]
     },
     "execution_count": 22,
     "metadata": {},
     "output_type": "execute_result"
    }
   ],
   "source": [
    "#calculate median\n",
    "np.median(x)"
   ]
  },
  {
   "cell_type": "code",
   "execution_count": 23,
   "metadata": {},
   "outputs": [
    {
     "data": {
      "text/plain": [
       "1.624836553698191"
      ]
     },
     "execution_count": 23,
     "metadata": {},
     "output_type": "execute_result"
    }
   ],
   "source": [
    "#calculate standard deviation\n",
    "np.std(x)"
   ]
  },
  {
   "cell_type": "markdown",
   "metadata": {},
   "source": [
    "In the cell below, interpret the above information."
   ]
  },
  {
   "cell_type": "markdown",
   "metadata": {},
   "source": [
    "# Total Rooms Above Grade Histogram\n",
    "The Histogrm displays the distribution of the variable 'TotRmsAbvGrd' on axis X ,which represents the total number of rooms above grade (excluding bathrooms), and count on the Y axis which represents the number of houses that fall into each range. \n",
    "## Observations\n",
    "- The distribution is skewed to the right, meaning there are more houses with a smaller number of rooms i.e 4–8 rooms, and fewer houses with a large number of rooms i.e 10–14 rooms.\n",
    "- Most houses have between 5 and 7 rooms\n",
    "## Interpretation\n",
    "### Summary statistics\n",
    " The combination of the right-skewed distribution, the mean, and the standard deviation suggests that:\n",
    "- Most of the houses have a relatively small number of rooms above grade.\n",
    "- There are some houses with a significantly larger number of rooms, which are pulling the mean towards the right.\n",
    "- The number of rooms above grade varies considerably across the houses in the dataset.\n",
    "\n",
    "\n",
    "\n",
    "\n"
   ]
  },
  {
   "cell_type": "markdown",
   "metadata": {},
   "source": [
    "### Overall Condition\n",
    "\n",
    "In the cell below, produce a histogram for `OverallCond`."
   ]
  },
  {
   "cell_type": "code",
   "execution_count": 32,
   "metadata": {
    "scrolled": true
   },
   "outputs": [
    {
     "data": {
      "image/png": "[encoded data removed]",
      "text/plain": [
       "<Figure size 432x288 with 1 Axes>"
      ]
     },
     "metadata": {
      "needs_background": "light"
     },
     "output_type": "display_data"
    }
   ],
   "source": [
    "x = df['OverallCond']\n",
    "# plot the histogram\n",
    "plt.title('Overall Condition Of House ')   #Title of histogram\n",
    "plt.xlabel('OverallCond')     # Labels the x axis\n",
    "plt.ylabel('Count')   #Labels the Y axis\n",
    "plt.hist( x, bins = 38, edgecolor = 'black')   #bins prefarably = square root of data points therefore squareroot of 1460\n",
    "plt.ylim(0, 900)   # sets limit on the y axis\n",
    "plt.yticks(range(0, 901, 100))   #sets the y axis from 0-900 to increase by the interval 100\n",
    "plt.axvline(np.mean(x), color = 'black' , linestyle = 'dashed')   #plots a black vertical line indicating the mean of the dataset\n",
    "plt.show()   #displays the created histogram"
   ]
  },
  {
   "cell_type": "markdown",
   "metadata": {},
   "source": [
    "Now, print out the mean, median, and standard deviation:"
   ]
  },
  {
   "cell_type": "code",
   "execution_count": 33,
   "metadata": {},
   "outputs": [
    {
     "data": {
      "text/plain": [
       "5.575342465753424"
      ]
     },
     "execution_count": 33,
     "metadata": {},
     "output_type": "execute_result"
    }
   ],
   "source": [
    "#calculate mean\n",
    "np.mean(x)"
   ]
  },
  {
   "cell_type": "code",
   "execution_count": 34,
   "metadata": {},
   "outputs": [
    {
     "data": {
      "text/plain": [
       "5.0"
      ]
     },
     "execution_count": 34,
     "metadata": {},
     "output_type": "execute_result"
    }
   ],
   "source": [
    "#calculate median\n",
    "np.median(x)"
   ]
  },
  {
   "cell_type": "code",
   "execution_count": 35,
   "metadata": {},
   "outputs": [
    {
     "data": {
      "text/plain": [
       "1.1124181757710097"
      ]
     },
     "execution_count": 35,
     "metadata": {},
     "output_type": "execute_result"
    }
   ],
   "source": [
    "#calculate standard deviation\n",
    "np.std(x)"
   ]
  },
  {
   "cell_type": "markdown",
   "metadata": {},
   "source": [
    "In the cell below, interpret the above information."
   ]
  },
  {
   "cell_type": "markdown",
   "metadata": {},
   "source": [
    "# Overall Condition Of House Histogram\n",
    "The Histogrm displays the distribution of the variable OverallCond on axis X ,which represents the overall condition of the house, and count on the Y axis which represents the number of houses that fall into each range.\n",
    "\n",
    "## Obseravations\n",
    "The distribution appears to be slightly left-skewed, as most values are concentrated around the condition rating of 5 and above\n",
    "## Summary Statistics\n",
    "- The average overall condition is slightly above 5, indicating that houses tend to lean slightly toward better-than-average condition.\n",
    "- The median condition is exactly 5, meaning 50% of houses have a condition rating below or equal to 5, while the other 50% are above.\n",
    "- The mean being slightly higher than the median reflects a minor influence of better-condition houses pulling the average upward.\n",
    "- A small standard deviation suggests that the ratings are tightly clustered around the mean and median.\n",
    "- The histogram has a clear peak at a condition rating of 5, indicating that \"average condition\" is the most common rating.\n",
    "\n",
    "## Interpretation:\n",
    "- Most houses in this dataset are in average condition (5) or slightly above.\n",
    "- Houses in poor (1-3) or excellent (8-9) condition are rare, indicating the market is dominated by homes with mid-range condition ratings.\n",
    "- For buyers or sellers, this suggests that most houses require only moderate maintenance or repairs, with relatively few homes in exceptionally bad or excellent states.\n",
    "\n"
   ]
  },
  {
   "cell_type": "markdown",
   "metadata": {},
   "source": [
    "## 3. Explore Differences between Subsets\n",
    "\n",
    "As you might have noted in the previous step, the overall condition of the house seems like we should treat it as more of a categorical variable, rather than a numeric variable.\n",
    "\n",
    "One useful way to explore a categorical variable is to create subsets of the full dataset based on that categorical variable, then plot their distributions based on some other variable. Since this dataset is traditionally used for predicting the sale price of a house, let's use `SalePrice` as that other variable.\n",
    "\n",
    "In the cell below, create three variables, each of which represents a record-wise subset of `df` (meaning, it has the same columns as `df`, but only some of the rows).\n",
    "\n",
    "* `below_average_condition`: home sales where the overall condition was less than 5\n",
    "* `average_condition`: home sales where the overall condition was exactly 5\n",
    "* `above_average_condition`: home sales where the overall condition was greater than 5"
   ]
  },
  {
   "cell_type": "code",
   "execution_count": 36,
   "metadata": {},
   "outputs": [],
   "source": [
    "# Create subsets of df using query()\n",
    "\n",
    "below_average_condition = df.query('OverallCond < 5')\n",
    "average_condition = df.query('OverallCond == 5')\n",
    "above_average_condition = df.query('OverallCond > 5')\n"
   ]
  },
  {
   "cell_type": "markdown",
   "metadata": {},
   "source": [
    "The following code checks that you created the subsets correctly:"
   ]
  },
  {
   "cell_type": "code",
   "execution_count": 37,
   "metadata": {},
   "outputs": [],
   "source": [
    "# Run this cell without changes\n",
    "\n",
    "# Check that all of them still have 80 columns\n",
    "assert below_average_condition.shape[1] == 80\n",
    "assert average_condition.shape[1] == 80\n",
    "assert above_average_condition.shape[1] == 80\n",
    "\n",
    "# Check the numbers of rows of each subset\n",
    "assert below_average_condition.shape[0] == 88\n",
    "assert average_condition.shape[0] == 821\n",
    "assert above_average_condition.shape[0] == 551"
   ]
  },
  {
   "cell_type": "markdown",
   "metadata": {},
   "source": [
    "The following code will produce a plot of the distributions of sale price for each of these subsets:"
   ]
  },
  {
   "cell_type": "code",
   "execution_count": 38,
   "metadata": {},
   "outputs": [
    {
     "data": {
      "image/png": "[encoded data removed]",
      "text/plain": [
       "<Figure size 1080x360 with 1 Axes>"
      ]
     },
     "metadata": {
      "needs_background": "light"
     },
     "output_type": "display_data"
    }
   ],
   "source": [
    "# Run this cell without changes\n",
    "\n",
    "# Set up plot\n",
    "fig, ax = plt.subplots(figsize=(15,5))\n",
    "\n",
    "# Create custom bins so all are on the same scale\n",
    "bins = range(df[\"SalePrice\"].min(), df[\"SalePrice\"].max(), int(df[\"SalePrice\"].median()) // 20)\n",
    "\n",
    "# Plot three histograms, with reduced opacity (alpha) so we\n",
    "# can see them overlapping\n",
    "ax.hist(\n",
    "    x=above_average_condition[\"SalePrice\"],\n",
    "    label=\"above average condition\",\n",
    "    bins=bins,\n",
    "    color=\"cyan\",\n",
    "    alpha=0.5\n",
    ")\n",
    "ax.hist(\n",
    "    x=average_condition[\"SalePrice\"],\n",
    "    label=\"average condition\",\n",
    "    bins=bins,\n",
    "    color=\"gray\",\n",
    "    alpha=0.3\n",
    ")\n",
    "ax.hist(\n",
    "    x=below_average_condition[\"SalePrice\"],\n",
    "    label=\"below average condition\",\n",
    "    bins=bins,\n",
    "    color=\"yellow\",\n",
    "    alpha=0.5\n",
    ")\n",
    "\n",
    "# Customize labels\n",
    "ax.set_title(\"Distributions of Sale Price Grouped by Condition\")\n",
    "ax.set_xlabel(\"Sale Price\")\n",
    "ax.set_ylabel(\"Number of Houses\")\n",
    "ax.legend();"
   ]
  },
  {
   "cell_type": "markdown",
   "metadata": {},
   "source": [
    "Interpret the plot above. What does it tell us about these overall condition categories, and the relationship between overall condition and sale price? Is there anything surprising?"
   ]
  },
  {
   "cell_type": "markdown",
   "metadata": {},
   "source": [
    "# Distributions of Sale Price Grouped by Condition\n",
    "The plot shows the distribution of sale prices for houses in different overall condition categories.\n",
    "\n",
    "## Key Observations\n",
    "\n",
    "### Positive Correlation\n",
    "There is a clear positive correlation between overall condition and sale price. Houses with above-average condition generally have higher sale prices compared to those with average or below-average condition.\n",
    "\n",
    "### Distribution Shift\n",
    "As the overall condition improves, the distribution of sale prices shifts towards higher values. Houses with above-average condition tend to have a higher proportion of sales at higher price points.\n",
    "\n",
    "### Overlapping Distributions\n",
    "While there is a general trend of higher prices with better condition, the distributions overlap. This means that there are houses with below-average condition that have higher sale prices than some houses with average or even above-average condition. This suggests that other factors besides overall condition significantly influence sale price.\n",
    "There's existence of High-Priced Houses in Below-Average Condition.This could be due to factors like location that may outweigh the impact of the lower overall condition.\n",
    "\n",
    "\n"
   ]
  },
  {
   "cell_type": "markdown",
   "metadata": {},
   "source": [
    "## 4. Explore Correlations\n",
    "\n",
    "To understand more about what features of these homes lead to higher sale prices, let's look at some correlations. We'll return to using the full `df`, rather than the subsets.\n",
    "\n",
    "In the cell below, print out both the name of the column and the Pearson correlation for the column that is ***most positively correlated*** with `SalePrice` (other than `SalePrice`, which is perfectly correlated with itself).\n",
    "\n",
    "We'll only check the correlations with some kind of numeric data type.\n",
    "\n",
    "You can import additional libraries, although it is possible to do this just using pandas."
   ]
  },
  {
   "cell_type": "code",
   "execution_count": 39,
   "metadata": {},
   "outputs": [
    {
     "data": {
      "text/plain": [
       "MSSubClass      -0.084284\n",
       "LotFrontage      0.334901\n",
       "LotArea          0.263843\n",
       "OverallQual      0.790982\n",
       "OverallCond     -0.077856\n",
       "YearBuilt        0.522897\n",
       "YearRemodAdd     0.507101\n",
       "MasVnrArea       0.475241\n",
       "BsmtFinSF1       0.386420\n",
       "BsmtFinSF2      -0.011378\n",
       "BsmtUnfSF        0.214479\n",
       "TotalBsmtSF      0.613581\n",
       "1stFlrSF         0.605852\n",
       "2ndFlrSF         0.319334\n",
       "LowQualFinSF    -0.025606\n",
       "GrLivArea        0.708624\n",
       "BsmtFullBath     0.227122\n",
       "BsmtHalfBath    -0.016844\n",
       "FullBath         0.560664\n",
       "HalfBath         0.284108\n",
       "BedroomAbvGr     0.168213\n",
       "KitchenAbvGr    -0.135907\n",
       "TotRmsAbvGrd     0.533723\n",
       "Fireplaces       0.466929\n",
       "GarageYrBlt      0.397778\n",
       "GarageCars       0.640409\n",
       "GarageArea       0.623431\n",
       "WoodDeckSF       0.324413\n",
       "OpenPorchSF      0.315856\n",
       "EnclosedPorch   -0.128578\n",
       "3SsnPorch        0.044584\n",
       "ScreenPorch      0.111447\n",
       "PoolArea         0.092404\n",
       "MiscVal         -0.021190\n",
       "MoSold           0.046432\n",
       "YrSold          -0.028923\n",
       "SalePrice        1.000000\n",
       "Name: SalePrice, dtype: float64"
      ]
     },
     "execution_count": 39,
     "metadata": {},
     "output_type": "execute_result"
    }
   ],
   "source": [
    "#calculate correlation of other columns and sales price\n",
    "correlations = df.corr()[\"SalePrice\"]\n",
    "correlations"
   ]
  },
  {
   "cell_type": "code",
   "execution_count": 40,
   "metadata": {},
   "outputs": [
    {
     "name": "stdout",
     "output_type": "stream",
     "text": [
      "OverallQual\n",
      "0.7909816005838047\n"
     ]
    }
   ],
   "source": [
    "#find the most positevely related column\n",
    "most_positive = correlations.drop(\"SalePrice\").idxmax()  #.drop excludes saleprice from the analysis. while .idxmax to find column with maximum value\n",
    "most_positive_value = correlations[most_positive]\n",
    "print(most_positive)\n",
    "print(most_positive_value)\n",
    "\n",
    "\n",
    "    "
   ]
  },
  {
   "cell_type": "markdown",
   "metadata": {},
   "source": [
    "Now, find the ***most negatively correlated*** column:"
   ]
  },
  {
   "cell_type": "code",
   "execution_count": 41,
   "metadata": {
    "scrolled": true
   },
   "outputs": [
    {
     "name": "stdout",
     "output_type": "stream",
     "text": [
      "Most negatively correlated column: KitchenAbvGr, Correlation: -0.1359073708421417\n"
     ]
    }
   ],
   "source": [
    "# Find the most negatively correlated column\n",
    "most_negative = correlations.drop(\"SalePrice\").idxmin()\n",
    "most_negative_value = correlations[most_negative]\n",
    "print(f\"Most negatively correlated column: {most_negative}, Correlation: {most_negative_value}\")"
   ]
  },
  {
   "cell_type": "markdown",
   "metadata": {},
   "source": [
    "Once you have your answer, edit the code below so that it produces a box plot of the relevant columns."
   ]
  },
  {
   "cell_type": "code",
   "execution_count": 42,
   "metadata": {},
   "outputs": [
    {
     "data": {
      "image/png": "[encoded data removed]",
      "text/plain": [
       "<Figure size 1080x360 with 2 Axes>"
      ]
     },
     "metadata": {
      "needs_background": "light"
     },
     "output_type": "display_data"
    }
   ],
   "source": [
    "\n",
    "import seaborn as sns\n",
    "\n",
    "fig, (ax1, ax2) = plt.subplots(ncols=2, figsize=(15,5))\n",
    "\n",
    "# Plot distribution of column with highest correlation\n",
    "sns.boxplot(\n",
    "    x=df[\"OverallQual\"],\n",
    "    y=df[\"SalePrice\"],\n",
    "    ax=ax1\n",
    ")\n",
    "# Plot distribution of column with most negative correlation\n",
    "sns.boxplot(\n",
    "    x=df['KitchenAbvGr'],\n",
    "    y=df[\"SalePrice\"],\n",
    "    ax=ax2\n",
    ")\n",
    "\n",
    "# Customize labels\n",
    "ax1.set_title('Correlation Between Overall Quality  and Saleprice')\n",
    "ax1.set_xlabel(\"OverallQual\")\n",
    "ax1.set_ylabel(\"Sale Price\")\n",
    "ax2.set_title('Correlation Between kitchen Above Grade and Saleprice')\n",
    "ax2.set_xlabel('KitchenAbvGr')\n",
    "ax2.set_ylabel(\"Sale Price\");"
   ]
  },
  {
   "cell_type": "code",
   "execution_count": 43,
   "metadata": {},
   "outputs": [
    {
     "data": {
      "text/plain": [
       "0"
      ]
     },
     "execution_count": 43,
     "metadata": {},
     "output_type": "execute_result"
    }
   ],
   "source": [
    "\n",
    "\n",
    "# Check for missing values in 'KitchenAbvGr' \n",
    "missing_values_kitchen = df['KitchenAbvGr'].isnull().sum()\n",
    "missing_values_kitchen"
   ]
  },
  {
   "cell_type": "markdown",
   "metadata": {},
   "source": [
    "Interpret the results below. Consult `data/data_description.txt` as needed."
   ]
  },
  {
   "cell_type": "markdown",
   "metadata": {},
   "source": [
    "# Correlation Between Overall Quality (OverallQual) and Sale Price\n",
    "## Interpretation:\n",
    "The OverallQual variable represents the overall material and finish quality of a house, rated on a scale i.e 1–10.\n",
    "The boxplot shows that as OverallQual increases, the sale price also increases significantly.\n",
    "Houses with higher quality i.e OverallQual = 10, have substantially higher sale prices.\n",
    "Conversely, houses with lower quality i.e OverallQual ≤ 3, have significantly lower sale prices and smaller variability.\n",
    "## Conclusion:\n",
    "There is a positive correlation between OverallQual and sale price. High-quality materials and finishes tend to drive up the value of homes.\n",
    "\n",
    "\n",
    "#  Correlation Between Kitchens Above Grade (KitchenAbvGr) and Sale Price\n",
    "## Interpretation:\n",
    "\n",
    "The KitchenAbvGr variable represents the number of kitchens above ground level in a house.\n",
    "The boxplot suggests most houses have 1 kitchen with a wide range of sale prices. The median price for houses with 1 kitchen is higher than those with 2 or 3 kitchens.\n",
    "Houses with 2 kitchens have lower sale prices than those with 1 kitchen, with less variability.\n",
    "Houses with 3 kitchens are rare and tend to have even lower sale prices, possibly due to them being less typical or having other factors affecting value.\n",
    "## Conclusion:\n",
    "There is no clear positive correlation between KitchenAbvGr and sale price. Having more than one kitchen does not necessarily increase a house’s value.\n",
    "## Summary\n",
    "OverallQual is a strong driver of sale price and positively influences property value.\n",
    "KitchenAbvGr may not be a good predictor of sale price, and additional context i.e house size, target\n",
    "market may be needed to understand its impact fully.\n"
   ]
  },
  {
   "cell_type": "markdown",
   "metadata": {},
   "source": [
    "## 5. Engineer and Explore a New Feature\n",
    "\n",
    "Here the code is written for you, all you need to do is interpret it.\n",
    "\n",
    "We note that the data spans across several years of sales:"
   ]
  },
  {
   "cell_type": "code",
   "execution_count": 44,
   "metadata": {},
   "outputs": [
    {
     "data": {
      "text/plain": [
       "2006    314\n",
       "2007    329\n",
       "2008    304\n",
       "2009    338\n",
       "2010    175\n",
       "Name: YrSold, dtype: int64"
      ]
     },
     "execution_count": 44,
     "metadata": {},
     "output_type": "execute_result"
    }
   ],
   "source": [
    "# Run this cell without changes\n",
    "df[\"YrSold\"].value_counts().sort_index()"
   ]
  },
  {
   "cell_type": "markdown",
   "metadata": {},
   "source": [
    "Maybe we can learn something interesting from the age of the home when it was sold. This uses information from the `YrBuilt` and `YrSold` columns, but represents a truly distinct feature."
   ]
  },
  {
   "cell_type": "code",
   "execution_count": 45,
   "metadata": {},
   "outputs": [
    {
     "data": {
      "image/png": "[encoded data removed]",
      "text/plain": [
       "<Figure size 1080x360 with 1 Axes>"
      ]
     },
     "metadata": {
      "needs_background": "light"
     },
     "output_type": "display_data"
    }
   ],
   "source": [
    "# Run this cell without changes\n",
    "\n",
    "# Make a new column, Age\n",
    "df[\"Age\"] = df[\"YrSold\"] - df[\"YearBuilt\"]\n",
    "\n",
    "# Set up plot\n",
    "fig, ax = plt.subplots(figsize=(15,5))\n",
    "\n",
    "# Plot Age vs. SalePrice\n",
    "ax.scatter(df[\"Age\"], df[\"SalePrice\"], alpha=0.3, color=\"green\")\n",
    "ax.set_title(\"Home Age vs. Sale Price\")\n",
    "ax.set_xlabel(\"Age of Home at Time of Sale\")\n",
    "ax.set_ylabel(\"Sale Price\");"
   ]
  },
  {
   "cell_type": "markdown",
   "metadata": {},
   "source": [
    "Interpret this plot below:"
   ]
  },
  {
   "cell_type": "markdown",
   "metadata": {},
   "source": [
    "# SCATTER PLOT\n",
    "This scatter plot displays the relationship between the age of a home at the time of sale (x-axis) and its sale price (y-axis). The points represent individual homes, with their positions showing the corresponding age and price.\n",
    " ## Overall Trend:\n",
    "Newer homes (age near 0) tend to have higher sale prices, as evidenced by the denser cluster of points at the left side with sale prices around 200,000–400,000.\n",
    "As the age of the home increases, the sale price generally decreases, though the relationship weakens for very old homes.\n",
    "## Price Variation:\n",
    "Among newer homes, there is a wide range of sale prices. Some homes are sold at high prices (above 400,000), while others are sold for less.\n",
    "For older homes i.e age > 50, sale prices are lower on average, and the range of variation narrows, with most prices below 200,000.\n",
    "##  Conclusion\n",
    "Newer homes tend to sell for more, but home age alone does not completely explain the sale price. Other factors, like location or size may play a significant role.\n"
   ]
  },
  {
   "cell_type": "markdown",
   "metadata": {},
   "source": [
    "## Summary\n",
    "This dataset provides insights into the factors influencing home sale prices. It includes a variety of features that describe the properties, such as their physical characteristics, location, and overall quality.\n",
    "\n",
    "From the analysis, it’s clear that certain features have a stronger relationship with sale price than others. For example, homes with higher Overall Quality scores tend to sell for significantly more, highlighting the importance of craftsmanship and material quality. Similarly, features like the number of kitchens above grade (KitchenAbvGr) show specific but less impactful correlations.\n",
    "\n",
    "The relationship between a home’s age and its sale price is also notable. Newer homes tend to fetch higher prices, while older homes are generally less expensive. However, some older properties retain high values, likely due to renovations or historical significance.\n",
    "\n",
    "Overall, the dataset emphasizes how a mix of structural quality, functionality, and perhaps some aesthetic or location-based factors combine to determine a home’s market value. While clear patterns exist, outliers and exceptions suggest that individual property details also play a crucial role in determining sale prices.\n"
   ]
  },
  {
   "cell_type": "markdown",
   "metadata": {},
   "source": [
    "## THIS IS THE LINK TO MY ASSIGNMENT LINK:\n",
    "https://1drv.ms/p/c/2004b6966d7f6cc0/EfFW90pDTkBLllLc3jzm9LMBTQvUrPQd0ew6Yg7Msb6Fuw?e=AH7kB0"
   ]
  }
 ],
 "metadata": {
  "kernelspec": {
   "display_name": "python (learn-env)",
   "language": "python",
   "name": "learn-env"
  },
  "language_info": {
   "codemirror_mode": {
    "name": "ipython",
    "version": 3
   },
   "file_extension": ".py",
   "mimetype": "text/x-python",
   "name": "python",
   "nbconvert_exporter": "python",
   "pygments_lexer": "ipython3",
   "version": "3.8.5"
  }
 },
 "nbformat": 4,
 "nbformat_minor": 2
}
